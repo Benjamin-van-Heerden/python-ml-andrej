{
 "cells": [
  {
   "cell_type": "code",
   "execution_count": 1,
   "metadata": {},
   "outputs": [],
   "source": [
    "import torch\n",
    "import torch.nn.functional as F\n",
    "import matplotlib.pyplot as plt"
   ]
  },
  {
   "cell_type": "code",
   "execution_count": 2,
   "metadata": {},
   "outputs": [
    {
     "data": {
      "text/plain": [
       "['emma', 'olivia', 'ava', 'isabella', 'sophia']"
      ]
     },
     "execution_count": 2,
     "metadata": {},
     "output_type": "execute_result"
    }
   ],
   "source": [
    "words = open(\"../names.txt\", \"r\").read().splitlines()\n",
    "words[:5]"
   ]
  },
  {
   "cell_type": "code",
   "execution_count": 3,
   "metadata": {},
   "outputs": [
    {
     "data": {
      "text/plain": [
       "32033"
      ]
     },
     "execution_count": 3,
     "metadata": {},
     "output_type": "execute_result"
    }
   ],
   "source": [
    "len(words)"
   ]
  },
  {
   "cell_type": "code",
   "execution_count": 4,
   "metadata": {},
   "outputs": [],
   "source": [
    "alphabet = [\".\"] + list(\"abcdefghijklmnopqrstuvwxyz\")\n",
    "stoi = {c: i for i, c in enumerate(alphabet)}\n",
    "itos = {i: c for i, c in enumerate(alphabet)}"
   ]
  },
  {
   "cell_type": "code",
   "execution_count": 5,
   "metadata": {},
   "outputs": [
    {
     "name": "stdout",
     "output_type": "stream",
     "text": [
      "emma\n",
      "... -----> e\n",
      "..e -----> m\n",
      ".em -----> m\n",
      "emm -----> a\n",
      "mma -----> .\n",
      "olivia\n",
      "... -----> o\n",
      "..o -----> l\n",
      ".ol -----> i\n",
      "oli -----> v\n",
      "liv -----> i\n",
      "ivi -----> a\n",
      "via -----> .\n",
      "ava\n",
      "... -----> a\n",
      "..a -----> v\n",
      ".av -----> a\n",
      "ava -----> .\n",
      "isabella\n",
      "... -----> i\n",
      "..i -----> s\n",
      ".is -----> a\n",
      "isa -----> b\n",
      "sab -----> e\n",
      "abe -----> l\n",
      "bel -----> l\n",
      "ell -----> a\n",
      "lla -----> .\n",
      "sophia\n",
      "... -----> s\n",
      "..s -----> o\n",
      ".so -----> p\n",
      "sop -----> h\n",
      "oph -----> i\n",
      "phi -----> a\n",
      "hia -----> .\n"
     ]
    }
   ],
   "source": [
    "# build the dataset\n",
    "\n",
    "block_size = 3 # how many chars do we take to predict the next one\n",
    "X, Y = [], []\n",
    "\n",
    "for w in words[:5]:\n",
    "    print(w)\n",
    "    context = [0] * block_size\n",
    "    for ch in w + \".\":\n",
    "        ix = stoi[ch]\n",
    "        X.append(context)\n",
    "        Y.append(ix)\n",
    "        print(\"\".join(itos[i] for i in context), \"----->\", itos[ix])\n",
    "        context = context[1:] + [ix]\n",
    "\n",
    "X = torch.tensor(X)\n",
    "Y = torch.tensor(Y)"
   ]
  },
  {
   "cell_type": "code",
   "execution_count": 6,
   "metadata": {},
   "outputs": [
    {
     "data": {
      "text/plain": [
       "(torch.Size([32, 3]), torch.Size([32]))"
      ]
     },
     "execution_count": 6,
     "metadata": {},
     "output_type": "execute_result"
    }
   ],
   "source": [
    "X.shape, Y.shape"
   ]
  },
  {
   "cell_type": "code",
   "execution_count": 7,
   "metadata": {},
   "outputs": [],
   "source": [
    "C = torch.randn((27, 2)) # embedding lookup"
   ]
  },
  {
   "cell_type": "code",
   "execution_count": 8,
   "metadata": {},
   "outputs": [
    {
     "data": {
      "text/plain": [
       "tensor([-2.6403,  1.2789])"
      ]
     },
     "execution_count": 8,
     "metadata": {},
     "output_type": "execute_result"
    }
   ],
   "source": [
    "C[5]"
   ]
  },
  {
   "cell_type": "code",
   "execution_count": 9,
   "metadata": {},
   "outputs": [
    {
     "data": {
      "text/plain": [
       "tensor([-2.6403,  1.2789])"
      ]
     },
     "execution_count": 9,
     "metadata": {},
     "output_type": "execute_result"
    }
   ],
   "source": [
    "F.one_hot(torch.tensor(5), num_classes=27).float() @ C"
   ]
  },
  {
   "cell_type": "code",
   "execution_count": 10,
   "metadata": {},
   "outputs": [
    {
     "data": {
      "text/plain": [
       "torch.Size([32, 3, 2])"
      ]
     },
     "execution_count": 10,
     "metadata": {},
     "output_type": "execute_result"
    }
   ],
   "source": [
    "C[X].shape"
   ]
  },
  {
   "cell_type": "code",
   "execution_count": 11,
   "metadata": {},
   "outputs": [
    {
     "data": {
      "text/plain": [
       "torch.Size([32, 3, 2])"
      ]
     },
     "execution_count": 11,
     "metadata": {},
     "output_type": "execute_result"
    }
   ],
   "source": [
    "emb = C[X]\n",
    "emb.shape"
   ]
  },
  {
   "cell_type": "code",
   "execution_count": 12,
   "metadata": {},
   "outputs": [],
   "source": [
    "W1 = torch.randn((6, 100))\n",
    "b1 = torch.randn(100)"
   ]
  },
  {
   "cell_type": "code",
   "execution_count": 13,
   "metadata": {},
   "outputs": [
    {
     "data": {
      "text/plain": [
       "torch.Size([32, 6])"
      ]
     },
     "execution_count": 13,
     "metadata": {},
     "output_type": "execute_result"
    }
   ],
   "source": [
    "emb.view(32, -1).shape"
   ]
  },
  {
   "cell_type": "code",
   "execution_count": 14,
   "metadata": {},
   "outputs": [
    {
     "data": {
      "text/plain": [
       "torch.Size([18])"
      ]
     },
     "execution_count": 14,
     "metadata": {},
     "output_type": "execute_result"
    }
   ],
   "source": [
    "a = torch.arange(18)\n",
    "a.shape"
   ]
  },
  {
   "cell_type": "code",
   "execution_count": 15,
   "metadata": {},
   "outputs": [
    {
     "data": {
      "text/plain": [
       "tensor([[[ 0,  1],\n",
       "         [ 2,  3],\n",
       "         [ 4,  5]],\n",
       "\n",
       "        [[ 6,  7],\n",
       "         [ 8,  9],\n",
       "         [10, 11]],\n",
       "\n",
       "        [[12, 13],\n",
       "         [14, 15],\n",
       "         [16, 17]]])"
      ]
     },
     "execution_count": 15,
     "metadata": {},
     "output_type": "execute_result"
    }
   ],
   "source": [
    "a.view(3, 3, 2)"
   ]
  },
  {
   "cell_type": "code",
   "execution_count": 16,
   "metadata": {},
   "outputs": [
    {
     "data": {
      "text/plain": [
       "tensor([[ 1.6487,  2.0761, -2.1154,  ..., -1.0748,  0.6696, -1.3345],\n",
       "        [ 3.1558,  4.7716, -1.8785,  ..., -3.5373,  3.0511, -1.4601],\n",
       "        [-1.9476,  3.4110, -4.6199,  ..., -0.6041, -3.5416, -4.8619],\n",
       "        ...,\n",
       "        [ 1.6764,  2.6437,  2.7410,  ...,  0.6911,  3.7463,  2.3815],\n",
       "        [-0.7012,  3.4301, -0.2902,  ..., -1.1528,  3.8777,  3.3636],\n",
       "        [-7.5819,  0.1773,  2.0939,  ...,  3.4355,  2.9556,  1.1977]])"
      ]
     },
     "execution_count": 16,
     "metadata": {},
     "output_type": "execute_result"
    }
   ],
   "source": [
    "emb.view(-1, 6) @ W1 + b1"
   ]
  },
  {
   "cell_type": "code",
   "execution_count": 17,
   "metadata": {},
   "outputs": [
    {
     "data": {
      "text/plain": [
       "torch.Size([32, 100])"
      ]
     },
     "execution_count": 17,
     "metadata": {},
     "output_type": "execute_result"
    }
   ],
   "source": [
    "h = torch.tanh(emb.view(-1, 6) @ W1 + b1)\n",
    "h.shape"
   ]
  },
  {
   "cell_type": "code",
   "execution_count": 18,
   "metadata": {},
   "outputs": [],
   "source": [
    "W2 = torch.randn((100, 27))\n",
    "b2 = torch.randn(27)"
   ]
  },
  {
   "cell_type": "code",
   "execution_count": 19,
   "metadata": {},
   "outputs": [
    {
     "data": {
      "text/plain": [
       "torch.Size([32, 27])"
      ]
     },
     "execution_count": 19,
     "metadata": {},
     "output_type": "execute_result"
    }
   ],
   "source": [
    "logits = h @ W2 + b2\n",
    "\n",
    "logits.shape"
   ]
  },
  {
   "cell_type": "code",
   "execution_count": 20,
   "metadata": {},
   "outputs": [
    {
     "data": {
      "text/plain": [
       "torch.Size([32, 27])"
      ]
     },
     "execution_count": 20,
     "metadata": {},
     "output_type": "execute_result"
    }
   ],
   "source": [
    "counts = logits.exp()\n",
    "prob = counts / counts.sum(1, keepdims=True)\n",
    "prob.shape"
   ]
  },
  {
   "cell_type": "code",
   "execution_count": 21,
   "metadata": {},
   "outputs": [
    {
     "data": {
      "text/plain": [
       "tensor(16.7534)"
      ]
     },
     "execution_count": 21,
     "metadata": {},
     "output_type": "execute_result"
    }
   ],
   "source": [
    "-prob[torch.arange(32), Y].log().mean()"
   ]
  },
  {
   "cell_type": "code",
   "execution_count": 22,
   "metadata": {},
   "outputs": [],
   "source": [
    "# --- rewrite and clean up ---"
   ]
  },
  {
   "cell_type": "code",
   "execution_count": 23,
   "metadata": {},
   "outputs": [],
   "source": [
    "# build the dataset\n",
    "\n",
    "block_size = 3 # how many chars do we take to predict the next one\n",
    "X, Y = [], []\n",
    "\n",
    "for w in words:\n",
    "    # print(w)\n",
    "    context = [0] * block_size\n",
    "    for ch in w + \".\":\n",
    "        ix = stoi[ch]\n",
    "        X.append(context)\n",
    "        Y.append(ix)\n",
    "        # print(\"\".join(itos[i] for i in context), \"----->\", itos[ix])\n",
    "        context = context[1:] + [ix]\n",
    "\n",
    "X = torch.tensor(X)\n",
    "Y = torch.tensor(Y)"
   ]
  },
  {
   "cell_type": "code",
   "execution_count": 24,
   "metadata": {},
   "outputs": [
    {
     "data": {
      "text/plain": [
       "(torch.Size([228146, 3]), torch.Size([228146]))"
      ]
     },
     "execution_count": 24,
     "metadata": {},
     "output_type": "execute_result"
    }
   ],
   "source": [
    "X.shape, Y.shape"
   ]
  },
  {
   "cell_type": "code",
   "execution_count": 25,
   "metadata": {},
   "outputs": [],
   "source": [
    "g = torch.Generator().manual_seed(2147483647)\n",
    "C = torch.randn((27, 2), generator=g)\n",
    "W1 = torch.randn((6, 100), generator=g)\n",
    "b1 = torch.randn(100, generator=g)\n",
    "W2 = torch.randn((100, 27), generator=g)\n",
    "b2 = torch.randn(27, generator=g)\n",
    "parameters = [C, W1, b1, W2, b2]"
   ]
  },
  {
   "cell_type": "code",
   "execution_count": 26,
   "metadata": {},
   "outputs": [],
   "source": [
    "for p in parameters:\n",
    "    p.requires_grad = True"
   ]
  },
  {
   "cell_type": "code",
   "execution_count": 27,
   "metadata": {},
   "outputs": [
    {
     "data": {
      "text/plain": [
       "3481"
      ]
     },
     "execution_count": 27,
     "metadata": {},
     "output_type": "execute_result"
    }
   ],
   "source": [
    "sum(p.nelement() for p in parameters)"
   ]
  },
  {
   "cell_type": "code",
   "execution_count": 28,
   "metadata": {},
   "outputs": [],
   "source": [
    "lre = torch.linspace(-3, 0, 1000)\n",
    "lrs = 10 ** lre"
   ]
  },
  {
   "cell_type": "code",
   "execution_count": 29,
   "metadata": {},
   "outputs": [
    {
     "name": "stdout",
     "output_type": "stream",
     "text": [
      "loss at step 1000 = 8.339794158935547\n",
      "loss at step 2000 = 5.773024559020996\n",
      "loss at step 3000 = 4.567688941955566\n",
      "loss at step 4000 = 3.9008214473724365\n",
      "loss at step 5000 = 3.55029559135437\n",
      "loss at step 6000 = 3.3327414989471436\n",
      "loss at step 7000 = 3.188147783279419\n",
      "loss at step 8000 = 3.0832204818725586\n",
      "loss at step 9000 = 3.0049476623535156\n",
      "loss at step 10000 = 2.941922664642334\n"
     ]
    }
   ],
   "source": [
    "# lri = []\n",
    "# lossi = []\n",
    "for i in range(10000):\n",
    "    batch_ixs = torch.randint(0, X.shape[0], (32,))\n",
    "\n",
    "    # forward pass\n",
    "    emb = C[X[batch_ixs]]\n",
    "    h = torch.tanh(emb.view(-1, 6) @ W1 + b1)\n",
    "    logits = h @ W2 + b2\n",
    "    # counts = logits.exp()\n",
    "    # prob = counts / counts.sum(1, keepdim=True)\n",
    "    # loss = -prob[torch.arange(emb.shape[0]), Y].log().mean()\n",
    "    reg = 0.05 * sum((p ** 2).mean() for p in parameters)\n",
    "    loss = F.cross_entropy(logits, Y[batch_ixs]) + reg\n",
    "    \n",
    "    if (i + 1) % 1000 == 0:\n",
    "        emb = C[X]\n",
    "        h = torch.tanh(emb.view(-1, 6) @ W1 + b1)\n",
    "        logits = h @ W2 + b2\n",
    "        overall_loss = F.cross_entropy(logits, Y)\n",
    "        print(f\"loss at step {i+1} = {overall_loss.item()}\")\n",
    "\n",
    "    for p in parameters:\n",
    "        p.grad = None\n",
    "\n",
    "    # lossi.append(loss.item())\n",
    "    loss.backward()\n",
    "    # lr = lrs[i]\n",
    "    lr = 0.002\n",
    "    for p in parameters:\n",
    "        p.data -= lr * p.grad\n",
    "\n",
    "    # track stats\n",
    "    # lri.append(lr)\n",
    "        \n",
    "# base model had loss of 2.35"
   ]
  },
  {
   "cell_type": "code",
   "execution_count": 30,
   "metadata": {},
   "outputs": [],
   "source": [
    "# plt.plot(lri, lossi)"
   ]
  },
  {
   "cell_type": "code",
   "execution_count": 31,
   "metadata": {},
   "outputs": [],
   "source": [
    "# training split, dev/validation split, test split\n",
    "# train params, train hyperparams, evaluate (should be done infrequently)\n",
    "# 80, 10, 10"
   ]
  },
  {
   "cell_type": "code",
   "execution_count": 32,
   "metadata": {},
   "outputs": [],
   "source": [
    "import random"
   ]
  },
  {
   "cell_type": "code",
   "execution_count": 33,
   "metadata": {},
   "outputs": [],
   "source": [
    "def build_dataset(words):\n",
    "    random.seed(42)\n",
    "    random.shuffle(words)\n",
    "    \n",
    "    block_size = 3\n",
    "    X, Y = [], []\n",
    "\n",
    "    for w in words:\n",
    "        context = [0] * block_size\n",
    "        for ch in w + \".\":\n",
    "            ix = stoi[ch]\n",
    "            X.append(context)\n",
    "            Y.append(ix)\n",
    "            context = context[1:] + [ix]\n",
    "    \n",
    "    X = torch.tensor(X)\n",
    "    Y = torch.tensor(Y)\n",
    "\n",
    "    n1 = int(0.8 * len(words))\n",
    "    n2 = int(0.9 * len(words))\n",
    "\n",
    "    Xtr, Ytr = X[:n1], Y[:n1]\n",
    "    Xdev, Ydev = X[n1:n2], Y[n1:n2]\n",
    "    Xte, Yte = X[n2:], Y[n2:]\n",
    "\n",
    "    return Xtr, Ytr, Xdev, Ydev, Xte, Yte\n",
    "\n",
    "Xtr, Ytr, Xdev, Ydev, Xte, Yte = build_dataset(words)"
   ]
  },
  {
   "cell_type": "code",
   "execution_count": 34,
   "metadata": {},
   "outputs": [],
   "source": [
    "g = torch.Generator().manual_seed(2147483647)\n",
    "C = torch.randn((27, 2), generator=g)\n",
    "W1 = torch.randn((6, 300), generator=g)\n",
    "b1 = torch.randn(300, generator=g)\n",
    "W2 = torch.randn((300, 27), generator=g)\n",
    "b2 = torch.randn(27, generator=g)\n",
    "parameters = [C, W1, b1, W2, b2]"
   ]
  },
  {
   "cell_type": "code",
   "execution_count": 35,
   "metadata": {},
   "outputs": [],
   "source": [
    "for p in parameters:\n",
    "    p.requires_grad = True"
   ]
  },
  {
   "cell_type": "code",
   "execution_count": 36,
   "metadata": {},
   "outputs": [
    {
     "data": {
      "text/plain": [
       "10281"
      ]
     },
     "execution_count": 36,
     "metadata": {},
     "output_type": "execute_result"
    }
   ],
   "source": [
    "sum(p.nelement() for p in parameters)"
   ]
  },
  {
   "cell_type": "code",
   "execution_count": 37,
   "metadata": {},
   "outputs": [],
   "source": [
    "lre = torch.linspace(-3, 0, 1000)\n",
    "lrs = 10 ** lre"
   ]
  },
  {
   "cell_type": "code",
   "execution_count": 38,
   "metadata": {},
   "outputs": [],
   "source": [
    "# lri = []\n",
    "# lossi = []\n",
    "# stepi = []\n",
    "\n",
    "for i in range(30000):\n",
    "    batch_ixs = torch.randint(0, Xtr.shape[0], (32,))\n",
    "\n",
    "    # forward pass\n",
    "    emb = C[Xtr[batch_ixs]]\n",
    "    h = torch.tanh(emb.view(-1, 6) @ W1 + b1)\n",
    "    logits = h @ W2 + b2\n",
    "    # reg = 0.05 * sum((p ** 2).mean() for p in parameters)\n",
    "    loss = F.cross_entropy(logits, Ytr[batch_ixs])\n",
    "\n",
    "\n",
    "    # backward pass\n",
    "    for p in parameters:\n",
    "        p.grad = None\n",
    "\n",
    "    loss.backward()\n",
    "    # alpha = 0.175\n",
    "    # gamma = 1\n",
    "    # beta = -np.log(gamma) - 1\n",
    "    # lr = np.exp(-((i + 1) ** alpha + beta))\n",
    "    lr = 0.01\n",
    "    for p in parameters:\n",
    "        p.data -= lr * p.grad\n",
    "\n",
    "    # stepi.append(i)\n",
    "    # lri.append(lr)\n",
    "    # lossi.append(loss.item())\n",
    "\n",
    "    # if (i + 1) % 1000 == 0:\n",
    "    #     emb = C[Xtr]\n",
    "    #     h = torch.tanh(emb.view(-1, 6) @ W1 + b1)\n",
    "    #     logits = h @ W2 + b2\n",
    "    #     overall_loss = F.cross_entropy(logits, Ytr)\n",
    "    #     print(f\"tr loss at step {i+1} = {overall_loss.item()}\")"
   ]
  },
  {
   "cell_type": "code",
   "execution_count": 39,
   "metadata": {},
   "outputs": [
    {
     "name": "stdout",
     "output_type": "stream",
     "text": [
      "tr loss at step 30000 = 2.464905261993408\n"
     ]
    }
   ],
   "source": [
    "emb = C[Xtr]\n",
    "h = torch.tanh(emb.view(-1, 6) @ W1 + b1)\n",
    "logits = h @ W2 + b2\n",
    "overall_loss = F.cross_entropy(logits, Ytr)\n",
    "print(f\"tr loss at step {i+1} = {overall_loss.item()}\")"
   ]
  },
  {
   "cell_type": "code",
   "execution_count": 40,
   "metadata": {},
   "outputs": [
    {
     "name": "stdout",
     "output_type": "stream",
     "text": [
      "dev loss at step 30000 = 2.4854488372802734\n"
     ]
    }
   ],
   "source": [
    "emb = C[Xdev]\n",
    "h = torch.tanh(emb.view(-1, 6) @ W1 + b1)\n",
    "logits = h @ W2 + b2\n",
    "overall_loss = F.cross_entropy(logits, Ydev)\n",
    "print(f\"dev loss at step {i+1} = {overall_loss.item()}\")"
   ]
  },
  {
   "cell_type": "code",
   "execution_count": 42,
   "metadata": {},
   "outputs": [
    {
     "data": {
      "image/png": "[encoded data removed]",
      "text/plain": [
       "<Figure size 576x576 with 1 Axes>"
      ]
     },
     "metadata": {
      "needs_background": "light"
     },
     "output_type": "display_data"
    }
   ],
   "source": [
    "plt.figure(figsize=(8, 8))\n",
    "plt.scatter(C[:, 0].data, C[:, 1].data, s=200)\n",
    "for i in range(C.shape[0]):\n",
    "    plt.text(C[i, 0].item(), C[i, 1].item(), itos[i], ha=\"center\", va=\"center\")\n",
    "plt.grid(\"minor\")"
   ]
  },
  {
   "cell_type": "code",
   "execution_count": 43,
   "metadata": {},
   "outputs": [],
   "source": [
    "# scale up to 10d embeddings\n",
    "g = torch.Generator().manual_seed(2147483647)\n",
    "C = torch.randn((27, 10), generator=g)\n",
    "W1 = torch.randn((30, 200), generator=g)\n",
    "b1 = torch.randn(200, generator=g)\n",
    "W2 = torch.randn((200, 27), generator=g)\n",
    "b2 = torch.randn(27, generator=g)\n",
    "parameters = [C, W1, b1, W2, b2]"
   ]
  },
  {
   "cell_type": "code",
   "execution_count": 44,
   "metadata": {},
   "outputs": [],
   "source": [
    "for p in parameters:\n",
    "    p.requires_grad = True"
   ]
  },
  {
   "cell_type": "code",
   "execution_count": 45,
   "metadata": {},
   "outputs": [
    {
     "data": {
      "text/plain": [
       "11897"
      ]
     },
     "execution_count": 45,
     "metadata": {},
     "output_type": "execute_result"
    }
   ],
   "source": [
    "sum(p.nelement() for p in parameters)"
   ]
  },
  {
   "cell_type": "code",
   "execution_count": 46,
   "metadata": {},
   "outputs": [],
   "source": [
    "lre = torch.linspace(-3, 0, 1000)\n",
    "lrs = 10 ** lre"
   ]
  },
  {
   "cell_type": "code",
   "execution_count": 47,
   "metadata": {},
   "outputs": [],
   "source": [
    "lri = []\n",
    "lossi = []\n",
    "stepi = []"
   ]
  },
  {
   "cell_type": "code",
   "execution_count": 48,
   "metadata": {},
   "outputs": [],
   "source": [
    "import numpy as np"
   ]
  },
  {
   "cell_type": "code",
   "execution_count": 49,
   "metadata": {},
   "outputs": [
    {
     "name": "stdout",
     "output_type": "stream",
     "text": [
      "--------------------\n",
      "tr loss at step 1000 = 3.426938533782959\n",
      "dev loss = 3.707991123199463\n",
      "lr = 0.21417267312607005\n",
      "--------------------\n",
      "tr loss at step 2000 = 2.87309193611145\n",
      "dev loss = 3.2002267837524414\n",
      "lr = 0.16692279681244065\n",
      "--------------------\n",
      "tr loss at step 3000 = 2.633845806121826\n",
      "dev loss = 2.9392006397247314\n",
      "lr = 0.14267129234635761\n",
      "--------------------\n",
      "tr loss at step 4000 = 2.4983513355255127\n",
      "dev loss = 2.803725004196167\n",
      "lr = 0.1269547216796825\n",
      "--------------------\n",
      "tr loss at step 5000 = 2.494961738586426\n",
      "dev loss = 2.792266607284546\n",
      "lr = 0.11559900858694484\n",
      "--------------------\n",
      "tr loss at step 6000 = 2.4609804153442383\n",
      "dev loss = 2.757525682449341\n",
      "lr = 0.10685182016761786\n",
      "--------------------\n",
      "tr loss at step 7000 = 2.4817519187927246\n",
      "dev loss = 2.7771127223968506\n",
      "lr = 0.09982199903217022\n",
      "--------------------\n",
      "tr loss at step 8000 = 2.3680572509765625\n",
      "dev loss = 2.642892360687256\n",
      "lr = 0.09399875128192368\n",
      "--------------------\n",
      "tr loss at step 9000 = 2.3484280109405518\n",
      "dev loss = 2.6539580821990967\n",
      "lr = 0.08906410479836022\n",
      "--------------------\n",
      "tr loss at step 10000 = 2.306060791015625\n",
      "dev loss = 2.598674774169922\n",
      "lr = 0.08480773679759514\n",
      "--------------------\n",
      "tr loss at step 11000 = 2.291191577911377\n",
      "dev loss = 2.6067471504211426\n",
      "lr = 0.08108389198616167\n",
      "--------------------\n",
      "tr loss at step 12000 = 2.277656316757202\n",
      "dev loss = 2.5790553092956543\n",
      "lr = 0.07778775595152827\n",
      "--------------------\n",
      "tr loss at step 13000 = 2.2474000453948975\n",
      "dev loss = 2.566818952560425\n",
      "lr = 0.07484165349438816\n",
      "--------------------\n",
      "tr loss at step 14000 = 2.2717947959899902\n",
      "dev loss = 2.5645227432250977\n",
      "lr = 0.07218656613137875\n",
      "--------------------\n",
      "tr loss at step 15000 = 2.2598211765289307\n",
      "dev loss = 2.572970151901245\n",
      "lr = 0.06977669612934174\n",
      "--------------------\n",
      "tr loss at step 16000 = 2.212852716445923\n",
      "dev loss = 2.5331201553344727\n",
      "lr = 0.06757585859244965\n",
      "--------------------\n",
      "tr loss at step 17000 = 2.2320189476013184\n",
      "dev loss = 2.551382541656494\n",
      "lr = 0.06555501431506558\n",
      "--------------------\n",
      "tr loss at step 18000 = 2.202554702758789\n",
      "dev loss = 2.526293992996216\n",
      "lr = 0.06369053875279415\n",
      "--------------------\n",
      "tr loss at step 19000 = 2.2052440643310547\n",
      "dev loss = 2.530470132827759\n",
      "lr = 0.06196297995491983\n",
      "--------------------\n",
      "tr loss at step 20000 = 2.183237314224243\n",
      "dev loss = 2.5031628608703613\n",
      "lr = 0.06035614960821989\n",
      "--------------------\n",
      "tr loss at step 21000 = 2.2276840209960938\n",
      "dev loss = 2.554250717163086\n",
      "lr = 0.05885644613572952\n",
      "--------------------\n",
      "tr loss at step 22000 = 2.1975650787353516\n",
      "dev loss = 2.526818037033081\n",
      "lr = 0.05745234268697393\n",
      "--------------------\n",
      "tr loss at step 23000 = 2.214015007019043\n",
      "dev loss = 2.543034791946411\n",
      "lr = 0.056133994390743513\n",
      "--------------------\n",
      "tr loss at step 24000 = 2.159902334213257\n",
      "dev loss = 2.499938726425171\n",
      "lr = 0.05489293325521601\n",
      "--------------------\n",
      "tr loss at step 25000 = 2.1594173908233643\n",
      "dev loss = 2.4870314598083496\n",
      "lr = 0.05372182841776908\n",
      "--------------------\n",
      "tr loss at step 26000 = 2.1553795337677\n",
      "dev loss = 2.4927680492401123\n",
      "lr = 0.05261429576330475\n",
      "--------------------\n",
      "tr loss at step 27000 = 2.1617298126220703\n",
      "dev loss = 2.4767661094665527\n",
      "lr = 0.051564745288011256\n",
      "--------------------\n",
      "tr loss at step 28000 = 2.1476032733917236\n",
      "dev loss = 2.486891508102417\n",
      "lr = 0.05056825764108792\n",
      "--------------------\n",
      "tr loss at step 29000 = 2.1539664268493652\n",
      "dev loss = 2.492262363433838\n",
      "lr = 0.04962048345107984\n",
      "--------------------\n",
      "tr loss at step 30000 = 2.172489881515503\n",
      "dev loss = 2.523721694946289\n",
      "lr = 0.04871756061146952\n",
      "--------------------\n",
      "tr loss at step 31000 = 2.161165714263916\n",
      "dev loss = 2.506678342819214\n",
      "lr = 0.04785604584522639\n",
      "--------------------\n",
      "tr loss at step 32000 = 2.1462080478668213\n",
      "dev loss = 2.4788312911987305\n",
      "lr = 0.04703285771392396\n",
      "--------------------\n",
      "tr loss at step 33000 = 2.1443030834198\n",
      "dev loss = 2.494152784347534\n",
      "lr = 0.046245228868682875\n",
      "--------------------\n",
      "tr loss at step 34000 = 2.1336686611175537\n",
      "dev loss = 2.4720773696899414\n",
      "lr = 0.04549066581658872\n",
      "--------------------\n",
      "tr loss at step 35000 = 2.126424789428711\n",
      "dev loss = 2.4845733642578125\n",
      "lr = 0.04476691483888968\n",
      "--------------------\n",
      "tr loss at step 36000 = 2.1159517765045166\n",
      "dev loss = 2.4637603759765625\n",
      "lr = 0.04407193297577026\n",
      "--------------------\n",
      "tr loss at step 37000 = 2.116590976715088\n",
      "dev loss = 2.471007823944092\n",
      "lr = 0.043403863208108386\n",
      "--------------------\n",
      "tr loss at step 38000 = 2.1270482540130615\n",
      "dev loss = 2.474231243133545\n",
      "lr = 0.04276101313484154\n",
      "--------------------\n",
      "tr loss at step 39000 = 2.1232709884643555\n",
      "dev loss = 2.4765465259552\n",
      "lr = 0.04214183657675691\n",
      "--------------------\n",
      "tr loss at step 40000 = 2.104250431060791\n",
      "dev loss = 2.451456308364868\n",
      "lr = 0.04154491764211115\n",
      "--------------------\n",
      "tr loss at step 41000 = 2.1165566444396973\n",
      "dev loss = 2.4736547470092773\n",
      "lr = 0.04096895687277205\n",
      "--------------------\n",
      "tr loss at step 42000 = 2.0992000102996826\n",
      "dev loss = 2.4641265869140625\n",
      "lr = 0.04041275915629969\n",
      "--------------------\n",
      "tr loss at step 43000 = 2.1000423431396484\n",
      "dev loss = 2.4496452808380127\n",
      "lr = 0.039875223143155336\n",
      "--------------------\n",
      "tr loss at step 44000 = 2.107300043106079\n",
      "dev loss = 2.4533138275146484\n",
      "lr = 0.03935533195179015\n",
      "--------------------\n",
      "tr loss at step 45000 = 2.107738971710205\n",
      "dev loss = 2.474011182785034\n",
      "lr = 0.0388521449798469\n",
      "--------------------\n",
      "tr loss at step 46000 = 2.0929269790649414\n",
      "dev loss = 2.4522125720977783\n",
      "lr = 0.038364790668751106\n",
      "--------------------\n",
      "tr loss at step 47000 = 2.0881447792053223\n",
      "dev loss = 2.438603401184082\n",
      "lr = 0.03789246009284751\n",
      "--------------------\n",
      "tr loss at step 48000 = 2.0869030952453613\n",
      "dev loss = 2.453585386276245\n",
      "lr = 0.03743440126396894\n",
      "--------------------\n",
      "tr loss at step 49000 = 2.1048147678375244\n",
      "dev loss = 2.4637882709503174\n",
      "lr = 0.0369899140586884\n",
      "--------------------\n",
      "tr loss at step 50000 = 2.1095104217529297\n",
      "dev loss = 2.4637880325317383\n",
      "lr = 0.0365583456891419\n",
      "--------------------\n",
      "tr loss at step 51000 = 2.090604305267334\n",
      "dev loss = 2.461604595184326\n",
      "lr = 0.03613908664970889\n",
      "--------------------\n",
      "tr loss at step 52000 = 2.1053967475891113\n",
      "dev loss = 2.4733448028564453\n",
      "lr = 0.03573156708141002\n",
      "--------------------\n",
      "tr loss at step 53000 = 2.084289073944092\n",
      "dev loss = 2.455078125\n",
      "lr = 0.03533525350394519\n",
      "--------------------\n",
      "tr loss at step 54000 = 2.0800044536590576\n",
      "dev loss = 2.452664852142334\n",
      "lr = 0.03494964587211076\n",
      "--------------------\n",
      "tr loss at step 55000 = 2.0860612392425537\n",
      "dev loss = 2.4505581855773926\n",
      "lr = 0.03457427491911812\n",
      "--------------------\n",
      "tr loss at step 56000 = 2.077176809310913\n",
      "dev loss = 2.4420297145843506\n",
      "lr = 0.03420869975425435\n",
      "--------------------\n",
      "tr loss at step 57000 = 2.0968124866485596\n",
      "dev loss = 2.4691593647003174\n",
      "lr = 0.033852505686526285\n",
      "--------------------\n",
      "tr loss at step 58000 = 2.080397844314575\n",
      "dev loss = 2.461740255355835\n",
      "lr = 0.03350530224952296\n",
      "--------------------\n",
      "tr loss at step 59000 = 2.070617437362671\n",
      "dev loss = 2.4445855617523193\n",
      "lr = 0.03316672140581786\n",
      "--------------------\n",
      "tr loss at step 60000 = 2.062837839126587\n",
      "dev loss = 2.4392571449279785\n",
      "lr = 0.0328364159118894\n",
      "--------------------\n",
      "tr loss at step 61000 = 2.0692031383514404\n",
      "dev loss = 2.4487526416778564\n",
      "lr = 0.032514057826829666\n",
      "--------------------\n",
      "tr loss at step 62000 = 2.079799175262451\n",
      "dev loss = 2.4466021060943604\n",
      "lr = 0.03219933715009723\n",
      "--------------------\n",
      "tr loss at step 63000 = 2.076449394226074\n",
      "dev loss = 2.4529359340667725\n",
      "lr = 0.03189196057528946\n",
      "--------------------\n",
      "tr loss at step 64000 = 2.0666630268096924\n",
      "dev loss = 2.4490511417388916\n",
      "lr = 0.0315916503484073\n",
      "--------------------\n",
      "tr loss at step 65000 = 2.0635578632354736\n",
      "dev loss = 2.446624994277954\n",
      "lr = 0.03129814322038889\n",
      "--------------------\n",
      "tr loss at step 66000 = 2.0731256008148193\n",
      "dev loss = 2.4565443992614746\n",
      "lr = 0.03101118948482869\n",
      "--------------------\n",
      "tr loss at step 67000 = 2.06530499458313\n",
      "dev loss = 2.4551758766174316\n",
      "lr = 0.030730552092794704\n",
      "--------------------\n",
      "tr loss at step 68000 = 2.050687074661255\n",
      "dev loss = 2.4306788444519043\n",
      "lr = 0.030456005837532427\n",
      "--------------------\n",
      "tr loss at step 69000 = 2.0868213176727295\n",
      "dev loss = 2.466517210006714\n",
      "lr = 0.03018733660261177\n",
      "--------------------\n",
      "tr loss at step 70000 = 2.0555765628814697\n",
      "dev loss = 2.4342153072357178\n",
      "lr = 0.029924340667751632\n",
      "--------------------\n",
      "tr loss at step 71000 = 2.075042247772217\n",
      "dev loss = 2.4598562717437744\n",
      "lr = 0.0296668240671527\n",
      "--------------------\n",
      "tr loss at step 72000 = 2.051044225692749\n",
      "dev loss = 2.451063871383667\n",
      "lr = 0.029414601995698897\n",
      "--------------------\n",
      "tr loss at step 73000 = 2.0601181983947754\n",
      "dev loss = 2.4561705589294434\n",
      "lr = 0.029167498258854185\n",
      "--------------------\n",
      "tr loss at step 74000 = 2.0533881187438965\n",
      "dev loss = 2.4428796768188477\n",
      "lr = 0.028925344762496953\n",
      "--------------------\n",
      "tr loss at step 75000 = 2.0554349422454834\n",
      "dev loss = 2.4334168434143066\n",
      "lr = 0.028687981039303184\n",
      "--------------------\n",
      "tr loss at step 76000 = 2.0509140491485596\n",
      "dev loss = 2.4541244506835938\n",
      "lr = 0.028455253808617104\n",
      "--------------------\n",
      "tr loss at step 77000 = 2.0546374320983887\n",
      "dev loss = 2.447009325027466\n",
      "lr = 0.028227016567040943\n",
      "--------------------\n",
      "tr loss at step 78000 = 2.0467209815979004\n",
      "dev loss = 2.441188097000122\n",
      "lr = 0.02800312920723684\n",
      "--------------------\n",
      "tr loss at step 79000 = 2.037843704223633\n",
      "dev loss = 2.4349122047424316\n",
      "lr = 0.027783457662666943\n",
      "--------------------\n",
      "tr loss at step 80000 = 2.0425937175750732\n",
      "dev loss = 2.4347786903381348\n",
      "lr = 0.027567873576207467\n",
      "--------------------\n",
      "tr loss at step 81000 = 2.0420081615448\n",
      "dev loss = 2.4426941871643066\n",
      "lr = 0.027356253990760075\n",
      "--------------------\n",
      "tr loss at step 82000 = 2.0476295948028564\n",
      "dev loss = 2.4398131370544434\n",
      "lr = 0.0271484810601517\n",
      "--------------------\n",
      "tr loss at step 83000 = 2.0449039936065674\n",
      "dev loss = 2.446836471557617\n",
      "lr = 0.02694444177876685\n",
      "--------------------\n",
      "tr loss at step 84000 = 2.041102647781372\n",
      "dev loss = 2.4340980052948\n",
      "lr = 0.02674402772849101\n",
      "--------------------\n",
      "tr loss at step 85000 = 2.06284761428833\n",
      "dev loss = 2.4562506675720215\n",
      "lr = 0.02654713484166904\n",
      "--------------------\n",
      "tr loss at step 86000 = 2.0298357009887695\n",
      "dev loss = 2.4225149154663086\n",
      "lr = 0.026353663178891075\n",
      "--------------------\n",
      "tr loss at step 87000 = 2.03796124458313\n",
      "dev loss = 2.436016321182251\n",
      "lr = 0.026163516720521144\n",
      "--------------------\n",
      "tr loss at step 88000 = 2.04728627204895\n",
      "dev loss = 2.4475603103637695\n",
      "lr = 0.025976603170972945\n",
      "--------------------\n",
      "tr loss at step 89000 = 2.0254180431365967\n",
      "dev loss = 2.4321064949035645\n",
      "lr = 0.025792833774820313\n",
      "--------------------\n",
      "tr loss at step 90000 = 2.0312561988830566\n",
      "dev loss = 2.4326372146606445\n",
      "lr = 0.025612123143904448\n",
      "--------------------\n",
      "tr loss at step 91000 = 2.0481271743774414\n",
      "dev loss = 2.4475367069244385\n",
      "lr = 0.02543438909466771\n",
      "--------------------\n",
      "tr loss at step 92000 = 2.035773515701294\n",
      "dev loss = 2.441270351409912\n",
      "lr = 0.02525955249500577\n",
      "--------------------\n",
      "tr loss at step 93000 = 2.037405014038086\n",
      "dev loss = 2.433649778366089\n",
      "lr = 0.02508753711998526\n",
      "--------------------\n",
      "tr loss at step 94000 = 2.026717185974121\n",
      "dev loss = 2.4191782474517822\n",
      "lr = 0.02491826951582638\n",
      "--------------------\n",
      "tr loss at step 95000 = 2.028857469558716\n",
      "dev loss = 2.431813955307007\n",
      "lr = 0.024751678871595132\n",
      "--------------------\n",
      "tr loss at step 96000 = 2.0263752937316895\n",
      "dev loss = 2.4226222038269043\n",
      "lr = 0.024587696898093852\n",
      "--------------------\n",
      "tr loss at step 97000 = 2.028287410736084\n",
      "dev loss = 2.43115496635437\n",
      "lr = 0.024426257713476396\n",
      "--------------------\n",
      "tr loss at step 98000 = 2.026130199432373\n",
      "dev loss = 2.4333317279815674\n",
      "lr = 0.024267297735150652\n",
      "--------------------\n",
      "tr loss at step 99000 = 2.021207571029663\n",
      "dev loss = 2.424661159515381\n",
      "lr = 0.024110755577563356\n"
     ]
    },
    {
     "ename": "KeyboardInterrupt",
     "evalue": "",
     "output_type": "error",
     "traceback": [
      "\u001b[0;31m---------------------------------------------------------------------------\u001b[0m",
      "\u001b[0;31mKeyboardInterrupt\u001b[0m                         Traceback (most recent call last)",
      "\u001b[1;32m/home/benjamin/Documents/Code/andrej-karpathy-ml/makemore/bigram_mlp.ipynb Cell 48\u001b[0m in \u001b[0;36m<cell line: 1>\u001b[0;34m()\u001b[0m\n\u001b[1;32m     <a href='vscode-notebook-cell:/home/benjamin/Documents/Code/andrej-karpathy-ml/makemore/bigram_mlp.ipynb#X65sZmlsZQ%3D%3D?line=19'>20</a>\u001b[0m lr \u001b[39m=\u001b[39m np\u001b[39m.\u001b[39mexp(\u001b[39m-\u001b[39m((i \u001b[39m+\u001b[39m \u001b[39m1\u001b[39m) \u001b[39m*\u001b[39m\u001b[39m*\u001b[39m alpha \u001b[39m+\u001b[39m beta))\n\u001b[1;32m     <a href='vscode-notebook-cell:/home/benjamin/Documents/Code/andrej-karpathy-ml/makemore/bigram_mlp.ipynb#X65sZmlsZQ%3D%3D?line=20'>21</a>\u001b[0m \u001b[39mfor\u001b[39;00m p \u001b[39min\u001b[39;00m parameters:\n\u001b[0;32m---> <a href='vscode-notebook-cell:/home/benjamin/Documents/Code/andrej-karpathy-ml/makemore/bigram_mlp.ipynb#X65sZmlsZQ%3D%3D?line=21'>22</a>\u001b[0m     p\u001b[39m.\u001b[39mdata \u001b[39m-\u001b[39m\u001b[39m=\u001b[39m lr \u001b[39m*\u001b[39m p\u001b[39m.\u001b[39mgrad\n\u001b[1;32m     <a href='vscode-notebook-cell:/home/benjamin/Documents/Code/andrej-karpathy-ml/makemore/bigram_mlp.ipynb#X65sZmlsZQ%3D%3D?line=23'>24</a>\u001b[0m stepi\u001b[39m.\u001b[39mappend(i)\n\u001b[1;32m     <a href='vscode-notebook-cell:/home/benjamin/Documents/Code/andrej-karpathy-ml/makemore/bigram_mlp.ipynb#X65sZmlsZQ%3D%3D?line=24'>25</a>\u001b[0m \u001b[39m# lri.append(lr)\u001b[39;00m\n",
      "\u001b[0;31mKeyboardInterrupt\u001b[0m: "
     ]
    }
   ],
   "source": [
    "for i in range(200000):\n",
    "    batch_ixs = torch.randint(0, Xtr.shape[0], (32,))\n",
    "\n",
    "    # forward pass\n",
    "    emb = C[Xtr[batch_ixs]]\n",
    "    h = torch.tanh(emb.view(-1, 30) @ W1 + b1)\n",
    "    logits = h @ W2 + b2\n",
    "    reg = 0.05 * sum((p ** 2).mean() for p in parameters)\n",
    "    loss = F.cross_entropy(logits, Ytr[batch_ixs]) + reg\n",
    "\n",
    "\n",
    "    # backward pass\n",
    "    for p in parameters:\n",
    "        p.grad = None\n",
    "\n",
    "    loss.backward()\n",
    "    alpha = 0.135\n",
    "    gamma = 1\n",
    "    beta = -np.log(gamma) - 1\n",
    "    lr = np.exp(-((i + 1) ** alpha + beta))\n",
    "    for p in parameters:\n",
    "        p.data -= lr * p.grad\n",
    "\n",
    "    stepi.append(i)\n",
    "    # lri.append(lr)\n",
    "    lossi.append(loss.log10().item())\n",
    "\n",
    "    if (i + 1) % 1000 == 0:\n",
    "        print(\"--------------------\")\n",
    "        emb = C[Xtr]\n",
    "        h = torch.tanh(emb.view(-1, 30) @ W1 + b1)\n",
    "        logits = h @ W2 + b2\n",
    "        overall_loss = F.cross_entropy(logits, Ytr)\n",
    "        print(f\"tr loss at step {i+1} = {overall_loss.item()}\")\n",
    "        emb = C[Xdev]\n",
    "        h = torch.tanh(emb.view(-1, 30) @ W1 + b1)\n",
    "        logits = h @ W2 + b2\n",
    "        overall_loss = F.cross_entropy(logits, Ydev)\n",
    "        print(f\"dev loss = {overall_loss.item()}\")\n",
    "        print(f\"lr = {lr}\")"
   ]
  },
  {
   "cell_type": "code",
   "execution_count": 416,
   "metadata": {},
   "outputs": [
    {
     "data": {
      "text/plain": [
       "[<matplotlib.lines.Line2D at 0x7f3fb08b7970>]"
      ]
     },
     "execution_count": 416,
     "metadata": {},
     "output_type": "execute_result"
    },
    {
     "data": {
      "image/png": "[encoded data removed]",
      "text/plain": [
       "<Figure size 432x288 with 1 Axes>"
      ]
     },
     "metadata": {
      "needs_background": "light"
     },
     "output_type": "display_data"
    }
   ],
   "source": [
    "plt.plot(stepi, lossi)"
   ]
  },
  {
   "cell_type": "code",
   "execution_count": 417,
   "metadata": {},
   "outputs": [
    {
     "data": {
      "text/plain": [
       "tensor(1.9813, grad_fn=<NllLossBackward0>)"
      ]
     },
     "execution_count": 417,
     "metadata": {},
     "output_type": "execute_result"
    }
   ],
   "source": [
    "emb = C[Xtr]\n",
    "h = torch.tanh(emb.view(-1, 30) @ W1 + b1)\n",
    "logits = h @ W2 + b2\n",
    "overall_loss = F.cross_entropy(logits, Ytr)\n",
    "overall_loss"
   ]
  },
  {
   "cell_type": "code",
   "execution_count": 418,
   "metadata": {},
   "outputs": [
    {
     "data": {
      "text/plain": [
       "tensor(2.4146, grad_fn=<NllLossBackward0>)"
      ]
     },
     "execution_count": 418,
     "metadata": {},
     "output_type": "execute_result"
    }
   ],
   "source": [
    "emb = C[Xdev]\n",
    "h = torch.tanh(emb.view(-1, 30) @ W1 + b1)\n",
    "logits = h @ W2 + b2\n",
    "overall_loss = F.cross_entropy(logits, Ydev)\n",
    "overall_loss"
   ]
  },
  {
   "cell_type": "code",
   "execution_count": 51,
   "metadata": {},
   "outputs": [
    {
     "name": "stdout",
     "output_type": "stream",
     "text": [
      "carmahzaan.\n",
      "hari.\n",
      "kimberretty.\n",
      "salayan.\n",
      "jazonte.\n",
      "amerync.\n",
      "kaqhilor.\n",
      "mari.\n",
      "chaiir.\n",
      "kaleigh.\n",
      "ham.\n",
      "jois.\n",
      "quston.\n",
      "rove.\n",
      "alianni.\n",
      "wazeron.\n",
      "jaryn.\n",
      "kakhengiylan.\n",
      "emderica.\n",
      "gianahya.\n",
      "kaylaad.\n",
      "bulah.\n",
      "sya.\n",
      "smalon.\n",
      "zeryxonni.\n",
      "alairo.\n",
      "nee.\n",
      "kaadin.\n",
      "oceanner.\n",
      "oza.\n",
      "krynce.\n",
      "mollianna.\n",
      "seden.\n",
      "loqhaib.\n",
      "bren.\n",
      "adyn.\n",
      "tituso.\n",
      "collietpranis.\n",
      "qukorce.\n",
      "zazingtyn.\n",
      "khengel.\n",
      "antezamilenn.\n",
      "kyperylon.\n",
      "rour.\n",
      "konston.\n",
      "kirockoleiler.\n",
      "shan.\n",
      "elanini.\n",
      "eronel.\n",
      "kyroseyah.\n",
      "keliah.\n",
      "mawryston.\n",
      "hani.\n",
      "kayleyah.\n",
      "cah.\n",
      "kolani.\n",
      "ari.\n",
      "kaal.\n",
      "mav.\n",
      "kento.\n",
      "itza.\n",
      "ryn.\n",
      "kel.\n",
      "catiylandelah.\n",
      "jouleen.\n",
      "dhandara.\n",
      "dakhakeer.\n",
      "tan.\n",
      "aviana.\n",
      "jmanah.\n",
      "theley.\n",
      "wayar.\n",
      "ledyn.\n",
      "vheopmy.\n",
      "mari.\n",
      "maria.\n",
      "mavyonoraiyel.\n",
      "abyana.\n",
      "kimberliseynasvia.\n",
      "moline.\n",
      "talenostefa.\n",
      "kemon.\n",
      "jaei.\n",
      "emya.\n",
      "kenne.\n",
      "natytura.\n",
      "caxleon.\n",
      "cendesabelw.\n",
      "evrixah.\n",
      "zeniusayealudrakian.\n",
      "abrithiannaedeassi.\n",
      "emmadious.\n",
      "biwhanned.\n",
      "teanne.\n",
      "kzon.\n",
      "keidhahayia.\n",
      "kayj.\n",
      "shaythais.\n",
      "lote.\n",
      "atdlynnamiana.\n"
     ]
    }
   ],
   "source": [
    "g = torch.Generator().manual_seed(2147483647 + 10)\n",
    "\n",
    "for _ in range(100):\n",
    "    out = []\n",
    "    context = [0] * block_size\n",
    "    while True:\n",
    "        emb = C[torch.tensor([context])]\n",
    "        h = torch.tanh(emb.view(1, -1) @ W1 + b1)\n",
    "        logits = h @ W2 + b2\n",
    "        probs = F.softmax(logits, dim=1)\n",
    "        ix = torch.multinomial(probs, num_samples=1, generator=g).item()\n",
    "        context = context[1:] + [ix]\n",
    "        out.append(ix)\n",
    "        if ix == 0:\n",
    "            break\n",
    "\n",
    "    print(\"\".join(itos[i] for i in out))"
   ]
  },
  {
   "cell_type": "code",
   "execution_count": null,
   "metadata": {},
   "outputs": [],
   "source": []
  }
 ],
 "metadata": {
  "kernelspec": {
   "display_name": "Python 3.9.12 ('base')",
   "language": "python",
   "name": "python3"
  },
  "language_info": {
   "codemirror_mode": {
    "name": "ipython",
    "version": 3
   },
   "file_extension": ".py",
   "mimetype": "text/x-python",
   "name": "python",
   "nbconvert_exporter": "python",
   "pygments_lexer": "ipython3",
   "version": "3.9.12"
  },
  "orig_nbformat": 4,
  "vscode": {
   "interpreter": {
    "hash": "a15702a29ea01ae7aa6b51d803dd08c0ac5dbedc153ed7a5fc67a3e004dd827d"
   }
  }
 },
 "nbformat": 4,
 "nbformat_minor": 2
}
