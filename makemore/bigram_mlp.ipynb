{
 "cells": [
  {
   "cell_type": "code",
   "execution_count": 1,
   "metadata": {},
   "outputs": [],
   "source": [
    "import torch\n",
    "import torch.nn.functional as F\n",
    "import matplotlib.pyplot as plt"
   ]
  },
  {
   "cell_type": "code",
   "execution_count": 2,
   "metadata": {},
   "outputs": [
    {
     "data": {
      "text/plain": [
       "['emma', 'olivia', 'ava', 'isabella', 'sophia']"
      ]
     },
     "execution_count": 2,
     "metadata": {},
     "output_type": "execute_result"
    }
   ],
   "source": [
    "words = open(\"../names.txt\", \"r\").read().splitlines()\n",
    "words[:5]"
   ]
  },
  {
   "cell_type": "code",
   "execution_count": 3,
   "metadata": {},
   "outputs": [
    {
     "data": {
      "text/plain": [
       "32033"
      ]
     },
     "execution_count": 3,
     "metadata": {},
     "output_type": "execute_result"
    }
   ],
   "source": [
    "len(words)"
   ]
  },
  {
   "cell_type": "code",
   "execution_count": 4,
   "metadata": {},
   "outputs": [],
   "source": [
    "alphabet = [\".\"] + list(\"abcdefghijklmnopqrstuvwxyz\")\n",
    "stoi = {c: i for i, c in enumerate(alphabet)}\n",
    "itos = {i: c for i, c in enumerate(alphabet)}"
   ]
  },
  {
   "cell_type": "code",
   "execution_count": 5,
   "metadata": {},
   "outputs": [
    {
     "name": "stdout",
     "output_type": "stream",
     "text": [
      "emma\n",
      "... -----> e\n",
      "..e -----> m\n",
      ".em -----> m\n",
      "emm -----> a\n",
      "mma -----> .\n",
      "olivia\n",
      "... -----> o\n",
      "..o -----> l\n",
      ".ol -----> i\n",
      "oli -----> v\n",
      "liv -----> i\n",
      "ivi -----> a\n",
      "via -----> .\n",
      "ava\n",
      "... -----> a\n",
      "..a -----> v\n",
      ".av -----> a\n",
      "ava -----> .\n",
      "isabella\n",
      "... -----> i\n",
      "..i -----> s\n",
      ".is -----> a\n",
      "isa -----> b\n",
      "sab -----> e\n",
      "abe -----> l\n",
      "bel -----> l\n",
      "ell -----> a\n",
      "lla -----> .\n",
      "sophia\n",
      "... -----> s\n",
      "..s -----> o\n",
      ".so -----> p\n",
      "sop -----> h\n",
      "oph -----> i\n",
      "phi -----> a\n",
      "hia -----> .\n"
     ]
    }
   ],
   "source": [
    "# build the dataset\n",
    "\n",
    "block_size = 3 # how many chars do we take to predict the next one\n",
    "X, Y = [], []\n",
    "\n",
    "for w in words[:5]:\n",
    "    print(w)\n",
    "    context = [0] * block_size\n",
    "    for ch in w + \".\":\n",
    "        ix = stoi[ch]\n",
    "        X.append(context)\n",
    "        Y.append(ix)\n",
    "        print(\"\".join(itos[i] for i in context), \"----->\", itos[ix])\n",
    "        context = context[1:] + [ix]\n",
    "\n",
    "X = torch.tensor(X)\n",
    "Y = torch.tensor(Y)"
   ]
  },
  {
   "cell_type": "code",
   "execution_count": 6,
   "metadata": {},
   "outputs": [
    {
     "data": {
      "text/plain": [
       "(torch.Size([32, 3]), torch.Size([32]))"
      ]
     },
     "execution_count": 6,
     "metadata": {},
     "output_type": "execute_result"
    }
   ],
   "source": [
    "X.shape, Y.shape"
   ]
  },
  {
   "cell_type": "code",
   "execution_count": 7,
   "metadata": {},
   "outputs": [],
   "source": [
    "C = torch.randn((27, 2)) # embedding lookup"
   ]
  },
  {
   "cell_type": "code",
   "execution_count": 8,
   "metadata": {},
   "outputs": [
    {
     "data": {
      "text/plain": [
       "tensor([-0.2102,  1.8627])"
      ]
     },
     "execution_count": 8,
     "metadata": {},
     "output_type": "execute_result"
    }
   ],
   "source": [
    "C[5]"
   ]
  },
  {
   "cell_type": "code",
   "execution_count": 9,
   "metadata": {},
   "outputs": [
    {
     "data": {
      "text/plain": [
       "tensor([-0.2102,  1.8627])"
      ]
     },
     "execution_count": 9,
     "metadata": {},
     "output_type": "execute_result"
    }
   ],
   "source": [
    "F.one_hot(torch.tensor(5), num_classes=27).float() @ C"
   ]
  },
  {
   "cell_type": "code",
   "execution_count": 10,
   "metadata": {},
   "outputs": [
    {
     "data": {
      "text/plain": [
       "torch.Size([32, 3, 2])"
      ]
     },
     "execution_count": 10,
     "metadata": {},
     "output_type": "execute_result"
    }
   ],
   "source": [
    "C[X].shape"
   ]
  },
  {
   "cell_type": "code",
   "execution_count": 11,
   "metadata": {},
   "outputs": [
    {
     "data": {
      "text/plain": [
       "torch.Size([32, 3, 2])"
      ]
     },
     "execution_count": 11,
     "metadata": {},
     "output_type": "execute_result"
    }
   ],
   "source": [
    "emb = C[X]\n",
    "emb.shape"
   ]
  },
  {
   "cell_type": "code",
   "execution_count": 12,
   "metadata": {},
   "outputs": [],
   "source": [
    "W1 = torch.randn((6, 100))\n",
    "b1 = torch.randn(100)"
   ]
  },
  {
   "cell_type": "code",
   "execution_count": 13,
   "metadata": {},
   "outputs": [
    {
     "data": {
      "text/plain": [
       "torch.Size([32, 6])"
      ]
     },
     "execution_count": 13,
     "metadata": {},
     "output_type": "execute_result"
    }
   ],
   "source": [
    "emb.view(32, -1).shape"
   ]
  },
  {
   "cell_type": "code",
   "execution_count": 14,
   "metadata": {},
   "outputs": [
    {
     "data": {
      "text/plain": [
       "torch.Size([18])"
      ]
     },
     "execution_count": 14,
     "metadata": {},
     "output_type": "execute_result"
    }
   ],
   "source": [
    "a = torch.arange(18)\n",
    "a.shape"
   ]
  },
  {
   "cell_type": "code",
   "execution_count": 15,
   "metadata": {},
   "outputs": [
    {
     "data": {
      "text/plain": [
       "tensor([[[ 0,  1],\n",
       "         [ 2,  3],\n",
       "         [ 4,  5]],\n",
       "\n",
       "        [[ 6,  7],\n",
       "         [ 8,  9],\n",
       "         [10, 11]],\n",
       "\n",
       "        [[12, 13],\n",
       "         [14, 15],\n",
       "         [16, 17]]])"
      ]
     },
     "execution_count": 15,
     "metadata": {},
     "output_type": "execute_result"
    }
   ],
   "source": [
    "a.view(3, 3, 2)"
   ]
  },
  {
   "cell_type": "code",
   "execution_count": 16,
   "metadata": {},
   "outputs": [
    {
     "data": {
      "text/plain": [
       "tensor([[-0.0775,  1.1606,  1.0780,  ..., -0.6771, -0.0154, -1.0539],\n",
       "        [-0.4865,  2.5889,  0.9507,  ..., -0.9230, -2.7063,  1.4529],\n",
       "        [-0.6160, -0.6143, -3.1867,  ..., -0.3173, -0.0066, -0.2492],\n",
       "        ...,\n",
       "        [-0.7416,  0.7968,  3.1199,  ..., -5.0320, -4.3367, -3.2557],\n",
       "        [-0.4371, -3.0989,  0.8531,  ...,  0.2176,  0.0625, -1.9680],\n",
       "        [ 0.1765,  3.1662, -0.5326,  ...,  0.5363,  0.4218, -2.6772]])"
      ]
     },
     "execution_count": 16,
     "metadata": {},
     "output_type": "execute_result"
    }
   ],
   "source": [
    "emb.view(-1, 6) @ W1 + b1"
   ]
  },
  {
   "cell_type": "code",
   "execution_count": 17,
   "metadata": {},
   "outputs": [
    {
     "data": {
      "text/plain": [
       "torch.Size([32, 100])"
      ]
     },
     "execution_count": 17,
     "metadata": {},
     "output_type": "execute_result"
    }
   ],
   "source": [
    "h = torch.tanh(emb.view(-1, 6) @ W1 + b1)\n",
    "h.shape"
   ]
  },
  {
   "cell_type": "code",
   "execution_count": 18,
   "metadata": {},
   "outputs": [],
   "source": [
    "W2 = torch.randn((100, 27))\n",
    "b2 = torch.randn(27)"
   ]
  },
  {
   "cell_type": "code",
   "execution_count": 19,
   "metadata": {},
   "outputs": [
    {
     "data": {
      "text/plain": [
       "torch.Size([32, 27])"
      ]
     },
     "execution_count": 19,
     "metadata": {},
     "output_type": "execute_result"
    }
   ],
   "source": [
    "logits = h @ W2 + b2\n",
    "\n",
    "logits.shape"
   ]
  },
  {
   "cell_type": "code",
   "execution_count": 20,
   "metadata": {},
   "outputs": [
    {
     "data": {
      "text/plain": [
       "torch.Size([32, 27])"
      ]
     },
     "execution_count": 20,
     "metadata": {},
     "output_type": "execute_result"
    }
   ],
   "source": [
    "counts = logits.exp()\n",
    "prob = counts / counts.sum(1, keepdims=True)\n",
    "prob.shape"
   ]
  },
  {
   "cell_type": "code",
   "execution_count": 21,
   "metadata": {},
   "outputs": [
    {
     "data": {
      "text/plain": [
       "tensor(16.0356)"
      ]
     },
     "execution_count": 21,
     "metadata": {},
     "output_type": "execute_result"
    }
   ],
   "source": [
    "-prob[torch.arange(32), Y].log().mean()"
   ]
  },
  {
   "cell_type": "code",
   "execution_count": 22,
   "metadata": {},
   "outputs": [],
   "source": [
    "# --- rewrite and clean up ---"
   ]
  },
  {
   "cell_type": "code",
   "execution_count": 43,
   "metadata": {},
   "outputs": [],
   "source": [
    "# build the dataset\n",
    "\n",
    "block_size = 3 # how many chars do we take to predict the next one\n",
    "X, Y = [], []\n",
    "\n",
    "for w in words:\n",
    "    # print(w)\n",
    "    context = [0] * block_size\n",
    "    for ch in w + \".\":\n",
    "        ix = stoi[ch]\n",
    "        X.append(context)\n",
    "        Y.append(ix)\n",
    "        # print(\"\".join(itos[i] for i in context), \"----->\", itos[ix])\n",
    "        context = context[1:] + [ix]\n",
    "\n",
    "X = torch.tensor(X)\n",
    "Y = torch.tensor(Y)"
   ]
  },
  {
   "cell_type": "code",
   "execution_count": 44,
   "metadata": {},
   "outputs": [
    {
     "data": {
      "text/plain": [
       "(torch.Size([228146, 3]), torch.Size([228146]))"
      ]
     },
     "execution_count": 44,
     "metadata": {},
     "output_type": "execute_result"
    }
   ],
   "source": [
    "X.shape, Y.shape"
   ]
  },
  {
   "cell_type": "code",
   "execution_count": 149,
   "metadata": {},
   "outputs": [],
   "source": [
    "g = torch.Generator().manual_seed(2147483647)\n",
    "C = torch.randn((27, 2), generator=g)\n",
    "W1 = torch.randn((6, 100), generator=g)\n",
    "b1 = torch.randn(100, generator=g)\n",
    "W2 = torch.randn((100, 27), generator=g)\n",
    "b2 = torch.randn(27, generator=g)\n",
    "parameters = [C, W1, b1, W2, b2]"
   ]
  },
  {
   "cell_type": "code",
   "execution_count": 150,
   "metadata": {},
   "outputs": [],
   "source": [
    "for p in parameters:\n",
    "    p.requires_grad = True"
   ]
  },
  {
   "cell_type": "code",
   "execution_count": 151,
   "metadata": {},
   "outputs": [
    {
     "data": {
      "text/plain": [
       "3481"
      ]
     },
     "execution_count": 151,
     "metadata": {},
     "output_type": "execute_result"
    }
   ],
   "source": [
    "sum(p.nelement() for p in parameters)"
   ]
  },
  {
   "cell_type": "code",
   "execution_count": 152,
   "metadata": {},
   "outputs": [],
   "source": [
    "lre = torch.linspace(-3, 0, 1000)\n",
    "lrs = 10 ** lre"
   ]
  },
  {
   "cell_type": "code",
   "execution_count": 156,
   "metadata": {},
   "outputs": [
    {
     "name": "stdout",
     "output_type": "stream",
     "text": [
      "loss at step 1000 = 2.3751165866851807\n",
      "loss at step 2000 = 2.374689817428589\n",
      "loss at step 3000 = 2.3738081455230713\n",
      "loss at step 4000 = 2.3745665550231934\n",
      "loss at step 5000 = 2.373636245727539\n",
      "loss at step 6000 = 2.373716115951538\n",
      "loss at step 7000 = 2.3737881183624268\n",
      "loss at step 8000 = 2.374002456665039\n",
      "loss at step 9000 = 2.373725652694702\n",
      "loss at step 10000 = 2.373215436935425\n"
     ]
    }
   ],
   "source": [
    "# lri = []\n",
    "# lossi = []\n",
    "for i in range(10000):\n",
    "    batch_ixs = torch.randint(0, X.shape[0], (32,))\n",
    "\n",
    "    # forward pass\n",
    "    emb = C[X[batch_ixs]]\n",
    "    h = torch.tanh(emb.view(-1, 6) @ W1 + b1)\n",
    "    logits = h @ W2 + b2\n",
    "    # counts = logits.exp()\n",
    "    # prob = counts / counts.sum(1, keepdim=True)\n",
    "    # loss = -prob[torch.arange(emb.shape[0]), Y].log().mean()\n",
    "    reg = 0.05 * sum((p ** 2).mean() for p in parameters)\n",
    "    loss = F.cross_entropy(logits, Y[batch_ixs]) + reg\n",
    "    \n",
    "    if (i + 1) % 1000 == 0:\n",
    "        emb = C[X]\n",
    "        h = torch.tanh(emb.view(-1, 6) @ W1 + b1)\n",
    "        logits = h @ W2 + b2\n",
    "        overall_loss = F.cross_entropy(logits, Y)\n",
    "        print(f\"loss at step {i+1} = {overall_loss.item()}\")\n",
    "\n",
    "    for p in parameters:\n",
    "        p.grad = None\n",
    "\n",
    "    # lossi.append(loss.item())\n",
    "    loss.backward()\n",
    "    # lr = lrs[i]\n",
    "    lr = 0.002\n",
    "    for p in parameters:\n",
    "        p.data -= lr * p.grad\n",
    "\n",
    "    # track stats\n",
    "    # lri.append(lr)\n",
    "        \n",
    "# base model had loss of 2.35"
   ]
  },
  {
   "cell_type": "code",
   "execution_count": 157,
   "metadata": {},
   "outputs": [],
   "source": [
    "# plt.plot(lri, lossi)"
   ]
  },
  {
   "cell_type": "code",
   "execution_count": 158,
   "metadata": {},
   "outputs": [],
   "source": [
    "# training split, dev/validation split, test split\n",
    "# train params, train hyperparams, evaluate (should be done infrequently)\n",
    "# 80, 10, 10"
   ]
  },
  {
   "cell_type": "code",
   "execution_count": 160,
   "metadata": {},
   "outputs": [],
   "source": [
    "import random"
   ]
  },
  {
   "cell_type": "code",
   "execution_count": 161,
   "metadata": {},
   "outputs": [],
   "source": [
    "def build_dataset(words):\n",
    "    random.seed(42)\n",
    "    random.shuffle(words)\n",
    "    \n",
    "    block_size = 3\n",
    "    X, Y = [], []\n",
    "\n",
    "    for w in words:\n",
    "        context = [0] * block_size\n",
    "        for ch in w + \".\":\n",
    "            ix = stoi[ch]\n",
    "            X.append(context)\n",
    "            Y.append(ix)\n",
    "            context = context[1:] + [ix]\n",
    "    \n",
    "    X = torch.tensor(X)\n",
    "    Y = torch.tensor(Y)\n",
    "\n",
    "    n1 = int(0.8 * len(words))\n",
    "    n2 = int(0.9 * len(words))\n",
    "\n",
    "    Xtr, Ytr = X[:n1], Y[:n1]\n",
    "    Xdev, Ydev = X[n1:n2], Y[n1:n2]\n",
    "    Xte, Yte = X[n2:], Y[n2:]\n",
    "\n",
    "    return Xtr, Ytr, Xdev, Ydev, Xte, Yte\n",
    "\n",
    "Xtr, Ytr, Xdev, Ydev, Xte, Yte = build_dataset(words)"
   ]
  },
  {
   "cell_type": "code",
   "execution_count": 296,
   "metadata": {},
   "outputs": [],
   "source": [
    "g = torch.Generator().manual_seed(2147483647)\n",
    "C = torch.randn((27, 2), generator=g)\n",
    "W1 = torch.randn((6, 300), generator=g)\n",
    "b1 = torch.randn(300, generator=g)\n",
    "W2 = torch.randn((300, 27), generator=g)\n",
    "b2 = torch.randn(27, generator=g)\n",
    "parameters = [C, W1, b1, W2, b2]"
   ]
  },
  {
   "cell_type": "code",
   "execution_count": 297,
   "metadata": {},
   "outputs": [],
   "source": [
    "for p in parameters:\n",
    "    p.requires_grad = True"
   ]
  },
  {
   "cell_type": "code",
   "execution_count": 298,
   "metadata": {},
   "outputs": [
    {
     "data": {
      "text/plain": [
       "10281"
      ]
     },
     "execution_count": 298,
     "metadata": {},
     "output_type": "execute_result"
    }
   ],
   "source": [
    "sum(p.nelement() for p in parameters)"
   ]
  },
  {
   "cell_type": "code",
   "execution_count": 299,
   "metadata": {},
   "outputs": [],
   "source": [
    "lre = torch.linspace(-3, 0, 1000)\n",
    "lrs = 10 ** lre"
   ]
  },
  {
   "cell_type": "code",
   "execution_count": 303,
   "metadata": {},
   "outputs": [],
   "source": [
    "# lri = []\n",
    "# lossi = []\n",
    "# stepi = []\n",
    "\n",
    "for i in range(30000):\n",
    "    batch_ixs = torch.randint(0, Xtr.shape[0], (32,))\n",
    "\n",
    "    # forward pass\n",
    "    emb = C[Xtr[batch_ixs]]\n",
    "    h = torch.tanh(emb.view(-1, 6) @ W1 + b1)\n",
    "    logits = h @ W2 + b2\n",
    "    # reg = 0.05 * sum((p ** 2).mean() for p in parameters)\n",
    "    loss = F.cross_entropy(logits, Ytr[batch_ixs])\n",
    "\n",
    "\n",
    "    # backward pass\n",
    "    for p in parameters:\n",
    "        p.grad = None\n",
    "\n",
    "    loss.backward()\n",
    "    # alpha = 0.175\n",
    "    # gamma = 1\n",
    "    # beta = -np.log(gamma) - 1\n",
    "    # lr = np.exp(-((i + 1) ** alpha + beta))\n",
    "    lr = 0.01\n",
    "    for p in parameters:\n",
    "        p.data -= lr * p.grad\n",
    "\n",
    "    # stepi.append(i)\n",
    "    # lri.append(lr)\n",
    "    # lossi.append(loss.item())\n",
    "\n",
    "    # if (i + 1) % 1000 == 0:\n",
    "    #     emb = C[Xtr]\n",
    "    #     h = torch.tanh(emb.view(-1, 6) @ W1 + b1)\n",
    "    #     logits = h @ W2 + b2\n",
    "    #     overall_loss = F.cross_entropy(logits, Ytr)\n",
    "    #     print(f\"tr loss at step {i+1} = {overall_loss.item()}\")"
   ]
  },
  {
   "cell_type": "code",
   "execution_count": 304,
   "metadata": {},
   "outputs": [
    {
     "name": "stdout",
     "output_type": "stream",
     "text": [
      "tr loss at step 30000 = 2.2670202255249023\n"
     ]
    }
   ],
   "source": [
    "emb = C[Xtr]\n",
    "h = torch.tanh(emb.view(-1, 6) @ W1 + b1)\n",
    "logits = h @ W2 + b2\n",
    "overall_loss = F.cross_entropy(logits, Ytr)\n",
    "print(f\"tr loss at step {i+1} = {overall_loss.item()}\")"
   ]
  },
  {
   "cell_type": "code",
   "execution_count": 305,
   "metadata": {},
   "outputs": [
    {
     "name": "stdout",
     "output_type": "stream",
     "text": [
      "dev loss at step 30000 = 2.361804485321045\n"
     ]
    }
   ],
   "source": [
    "emb = C[Xdev]\n",
    "h = torch.tanh(emb.view(-1, 6) @ W1 + b1)\n",
    "logits = h @ W2 + b2\n",
    "overall_loss = F.cross_entropy(logits, Ydev)\n",
    "print(f\"dev loss at step {i+1} = {overall_loss.item()}\")"
   ]
  },
  {
   "cell_type": "code",
   "execution_count": 307,
   "metadata": {},
   "outputs": [
    {
     "data": {
      "image/png": "[encoded data removed]",
      "text/plain": [
       "<Figure size 576x576 with 1 Axes>"
      ]
     },
     "metadata": {
      "needs_background": "light"
     },
     "output_type": "display_data"
    }
   ],
   "source": [
    "plt.figure(figsize=(8, 8))\n",
    "plt.scatter(C[:, 0].data, C[:, 1].data, s=200)\n",
    "for i in range(C.shape[0]):\n",
    "    plt.text(C[i, 0].item(), C[i, 1].item(), itos[i], ha=\"center\", va=\"center\")\n",
    "plt.grid(\"minor\")"
   ]
  },
  {
   "cell_type": "code",
   "execution_count": 409,
   "metadata": {},
   "outputs": [],
   "source": [
    "# scale up to 10d embeddings\n",
    "g = torch.Generator().manual_seed(2147483647)\n",
    "C = torch.randn((27, 10), generator=g)\n",
    "W1 = torch.randn((30, 200), generator=g)\n",
    "b1 = torch.randn(200, generator=g)\n",
    "W2 = torch.randn((200, 27), generator=g)\n",
    "b2 = torch.randn(27, generator=g)\n",
    "parameters = [C, W1, b1, W2, b2]"
   ]
  },
  {
   "cell_type": "code",
   "execution_count": 410,
   "metadata": {},
   "outputs": [],
   "source": [
    "for p in parameters:\n",
    "    p.requires_grad = True"
   ]
  },
  {
   "cell_type": "code",
   "execution_count": 411,
   "metadata": {},
   "outputs": [
    {
     "data": {
      "text/plain": [
       "11897"
      ]
     },
     "execution_count": 411,
     "metadata": {},
     "output_type": "execute_result"
    }
   ],
   "source": [
    "sum(p.nelement() for p in parameters)"
   ]
  },
  {
   "cell_type": "code",
   "execution_count": 412,
   "metadata": {},
   "outputs": [],
   "source": [
    "lre = torch.linspace(-3, 0, 1000)\n",
    "lrs = 10 ** lre"
   ]
  },
  {
   "cell_type": "code",
   "execution_count": 413,
   "metadata": {},
   "outputs": [],
   "source": [
    "lri = []\n",
    "lossi = []\n",
    "stepi = []"
   ]
  },
  {
   "cell_type": "code",
   "execution_count": 414,
   "metadata": {},
   "outputs": [],
   "source": [
    "import numpy as np"
   ]
  },
  {
   "cell_type": "code",
   "execution_count": 415,
   "metadata": {},
   "outputs": [
    {
     "name": "stdout",
     "output_type": "stream",
     "text": [
      "--------------------\n",
      "tr loss at step 1000 = 3.537635087966919\n",
      "dev loss = 3.7564518451690674\n",
      "lr = 0.21417267312607005\n",
      "--------------------\n",
      "tr loss at step 2000 = 2.9848837852478027\n",
      "dev loss = 3.198927879333496\n",
      "lr = 0.16692279681244065\n",
      "--------------------\n",
      "tr loss at step 3000 = 2.716989755630493\n",
      "dev loss = 2.958570957183838\n",
      "lr = 0.14267129234635761\n",
      "--------------------\n",
      "tr loss at step 4000 = 2.5912625789642334\n",
      "dev loss = 2.8814518451690674\n",
      "lr = 0.1269547216796825\n",
      "--------------------\n",
      "tr loss at step 5000 = 2.494887590408325\n",
      "dev loss = 2.7660045623779297\n",
      "lr = 0.11559900858694484\n",
      "--------------------\n",
      "tr loss at step 6000 = 2.4630424976348877\n",
      "dev loss = 2.7306017875671387\n",
      "lr = 0.10685182016761786\n",
      "--------------------\n",
      "tr loss at step 7000 = 2.392534017562866\n",
      "dev loss = 2.673924207687378\n",
      "lr = 0.09982199903217022\n",
      "--------------------\n",
      "tr loss at step 8000 = 2.438981533050537\n",
      "dev loss = 2.710045099258423\n",
      "lr = 0.09399875128192368\n",
      "--------------------\n",
      "tr loss at step 9000 = 2.3353307247161865\n",
      "dev loss = 2.59871768951416\n",
      "lr = 0.08906410479836022\n",
      "--------------------\n",
      "tr loss at step 10000 = 2.339268684387207\n",
      "dev loss = 2.6115996837615967\n",
      "lr = 0.08480773679759514\n",
      "--------------------\n",
      "tr loss at step 11000 = 2.385930299758911\n",
      "dev loss = 2.66219162940979\n",
      "lr = 0.08108389198616167\n",
      "--------------------\n",
      "tr loss at step 12000 = 2.3061790466308594\n",
      "dev loss = 2.5973682403564453\n",
      "lr = 0.07778775595152827\n",
      "--------------------\n",
      "tr loss at step 13000 = 2.2774815559387207\n",
      "dev loss = 2.5631909370422363\n",
      "lr = 0.07484165349438816\n",
      "--------------------\n",
      "tr loss at step 14000 = 2.377432346343994\n",
      "dev loss = 2.6527082920074463\n",
      "lr = 0.07218656613137875\n",
      "--------------------\n",
      "tr loss at step 15000 = 2.250157594680786\n",
      "dev loss = 2.538755416870117\n",
      "lr = 0.06977669612934174\n",
      "--------------------\n",
      "tr loss at step 16000 = 2.23669171333313\n",
      "dev loss = 2.529473304748535\n",
      "lr = 0.06757585859244965\n",
      "--------------------\n",
      "tr loss at step 17000 = 2.2452280521392822\n",
      "dev loss = 2.528496503829956\n",
      "lr = 0.06555501431506558\n",
      "--------------------\n",
      "tr loss at step 18000 = 2.2353899478912354\n",
      "dev loss = 2.513671875\n",
      "lr = 0.06369053875279415\n",
      "--------------------\n",
      "tr loss at step 19000 = 2.226212739944458\n",
      "dev loss = 2.534013509750366\n",
      "lr = 0.06196297995491983\n",
      "--------------------\n",
      "tr loss at step 20000 = 2.196767568588257\n",
      "dev loss = 2.4887139797210693\n",
      "lr = 0.06035614960821989\n",
      "--------------------\n",
      "tr loss at step 21000 = 2.190473794937134\n",
      "dev loss = 2.490616798400879\n",
      "lr = 0.05885644613572952\n",
      "--------------------\n",
      "tr loss at step 22000 = 2.221611738204956\n",
      "dev loss = 2.502103328704834\n",
      "lr = 0.05745234268697393\n",
      "--------------------\n",
      "tr loss at step 23000 = 2.189685344696045\n",
      "dev loss = 2.495434522628784\n",
      "lr = 0.056133994390743513\n",
      "--------------------\n",
      "tr loss at step 24000 = 2.1781952381134033\n",
      "dev loss = 2.4839587211608887\n",
      "lr = 0.05489293325521601\n",
      "--------------------\n",
      "tr loss at step 25000 = 2.206511974334717\n",
      "dev loss = 2.5048470497131348\n",
      "lr = 0.05372182841776908\n",
      "--------------------\n",
      "tr loss at step 26000 = 2.2044429779052734\n",
      "dev loss = 2.513683557510376\n",
      "lr = 0.05261429576330475\n",
      "--------------------\n",
      "tr loss at step 27000 = 2.1906962394714355\n",
      "dev loss = 2.5079593658447266\n",
      "lr = 0.051564745288011256\n",
      "--------------------\n",
      "tr loss at step 28000 = 2.1628670692443848\n",
      "dev loss = 2.478703737258911\n",
      "lr = 0.05056825764108792\n",
      "--------------------\n",
      "tr loss at step 29000 = 2.1516451835632324\n",
      "dev loss = 2.464738130569458\n",
      "lr = 0.04962048345107984\n",
      "--------------------\n",
      "tr loss at step 30000 = 2.1667165756225586\n",
      "dev loss = 2.4803175926208496\n",
      "lr = 0.04871756061146952\n",
      "--------------------\n",
      "tr loss at step 31000 = 2.1622605323791504\n",
      "dev loss = 2.471778392791748\n",
      "lr = 0.04785604584522639\n",
      "--------------------\n",
      "tr loss at step 32000 = 2.163851022720337\n",
      "dev loss = 2.484745740890503\n",
      "lr = 0.04703285771392396\n",
      "--------------------\n",
      "tr loss at step 33000 = 2.1466050148010254\n",
      "dev loss = 2.454880714416504\n",
      "lr = 0.046245228868682875\n",
      "--------------------\n",
      "tr loss at step 34000 = 2.141521692276001\n",
      "dev loss = 2.4713709354400635\n",
      "lr = 0.04549066581658872\n",
      "--------------------\n",
      "tr loss at step 35000 = 2.1334471702575684\n",
      "dev loss = 2.454402446746826\n",
      "lr = 0.04476691483888968\n",
      "--------------------\n",
      "tr loss at step 36000 = 2.123220682144165\n",
      "dev loss = 2.4482638835906982\n",
      "lr = 0.04407193297577026\n",
      "--------------------\n",
      "tr loss at step 37000 = 2.134777545928955\n",
      "dev loss = 2.448499917984009\n",
      "lr = 0.043403863208108386\n",
      "--------------------\n",
      "tr loss at step 38000 = 2.126903533935547\n",
      "dev loss = 2.442126750946045\n",
      "lr = 0.04276101313484154\n",
      "--------------------\n",
      "tr loss at step 39000 = 2.136995315551758\n",
      "dev loss = 2.449185609817505\n",
      "lr = 0.04214183657675691\n",
      "--------------------\n",
      "tr loss at step 40000 = 2.1371428966522217\n",
      "dev loss = 2.4689202308654785\n",
      "lr = 0.04154491764211115\n",
      "--------------------\n",
      "tr loss at step 41000 = 2.1538639068603516\n",
      "dev loss = 2.4884352684020996\n",
      "lr = 0.04096895687277205\n",
      "--------------------\n",
      "tr loss at step 42000 = 2.14162278175354\n",
      "dev loss = 2.46699595451355\n",
      "lr = 0.04041275915629969\n",
      "--------------------\n",
      "tr loss at step 43000 = 2.1199612617492676\n",
      "dev loss = 2.46077823638916\n",
      "lr = 0.039875223143155336\n",
      "--------------------\n",
      "tr loss at step 44000 = 2.1398518085479736\n",
      "dev loss = 2.4829821586608887\n",
      "lr = 0.03935533195179015\n",
      "--------------------\n",
      "tr loss at step 45000 = 2.1142399311065674\n",
      "dev loss = 2.443248748779297\n",
      "lr = 0.0388521449798469\n",
      "--------------------\n",
      "tr loss at step 46000 = 2.1188724040985107\n",
      "dev loss = 2.4617788791656494\n",
      "lr = 0.038364790668751106\n",
      "--------------------\n",
      "tr loss at step 47000 = 2.112990140914917\n",
      "dev loss = 2.4511446952819824\n",
      "lr = 0.03789246009284751\n",
      "--------------------\n",
      "tr loss at step 48000 = 2.1048367023468018\n",
      "dev loss = 2.44441819190979\n",
      "lr = 0.03743440126396894\n",
      "--------------------\n",
      "tr loss at step 49000 = 2.115485668182373\n",
      "dev loss = 2.453632116317749\n",
      "lr = 0.0369899140586884\n",
      "--------------------\n",
      "tr loss at step 50000 = 2.106982707977295\n",
      "dev loss = 2.4450879096984863\n",
      "lr = 0.0365583456891419\n",
      "--------------------\n",
      "tr loss at step 51000 = 2.0974888801574707\n",
      "dev loss = 2.444822311401367\n",
      "lr = 0.03613908664970889\n",
      "--------------------\n",
      "tr loss at step 52000 = 2.091761589050293\n",
      "dev loss = 2.433110237121582\n",
      "lr = 0.03573156708141002\n",
      "--------------------\n",
      "tr loss at step 53000 = 2.0992565155029297\n",
      "dev loss = 2.4369518756866455\n",
      "lr = 0.03533525350394519\n",
      "--------------------\n",
      "tr loss at step 54000 = 2.1034302711486816\n",
      "dev loss = 2.4436020851135254\n",
      "lr = 0.03494964587211076\n",
      "--------------------\n",
      "tr loss at step 55000 = 2.1171960830688477\n",
      "dev loss = 2.466980218887329\n",
      "lr = 0.03457427491911812\n",
      "--------------------\n",
      "tr loss at step 56000 = 2.095714807510376\n",
      "dev loss = 2.428398609161377\n",
      "lr = 0.03420869975425435\n",
      "--------------------\n",
      "tr loss at step 57000 = 2.088057279586792\n",
      "dev loss = 2.4327361583709717\n",
      "lr = 0.033852505686526285\n",
      "--------------------\n",
      "tr loss at step 58000 = 2.090956449508667\n",
      "dev loss = 2.441131353378296\n",
      "lr = 0.03350530224952296\n",
      "--------------------\n",
      "tr loss at step 59000 = 2.0952186584472656\n",
      "dev loss = 2.4447286128997803\n",
      "lr = 0.03316672140581786\n",
      "--------------------\n",
      "tr loss at step 60000 = 2.094285726547241\n",
      "dev loss = 2.4424116611480713\n",
      "lr = 0.0328364159118894\n",
      "--------------------\n",
      "tr loss at step 61000 = 2.0858070850372314\n",
      "dev loss = 2.439800500869751\n",
      "lr = 0.032514057826829666\n",
      "--------------------\n",
      "tr loss at step 62000 = 2.0995936393737793\n",
      "dev loss = 2.4585654735565186\n",
      "lr = 0.03219933715009723\n",
      "--------------------\n",
      "tr loss at step 63000 = 2.0836126804351807\n",
      "dev loss = 2.4273595809936523\n",
      "lr = 0.03189196057528946\n",
      "--------------------\n",
      "tr loss at step 64000 = 2.0767178535461426\n",
      "dev loss = 2.4273173809051514\n",
      "lr = 0.0315916503484073\n",
      "--------------------\n",
      "tr loss at step 65000 = 2.0859928131103516\n",
      "dev loss = 2.4432425498962402\n",
      "lr = 0.03129814322038889\n",
      "--------------------\n",
      "tr loss at step 66000 = 2.079165458679199\n",
      "dev loss = 2.436619281768799\n",
      "lr = 0.03101118948482869\n",
      "--------------------\n",
      "tr loss at step 67000 = 2.0773441791534424\n",
      "dev loss = 2.422912120819092\n",
      "lr = 0.030730552092794704\n",
      "--------------------\n",
      "tr loss at step 68000 = 2.0904462337493896\n",
      "dev loss = 2.4511921405792236\n",
      "lr = 0.030456005837532427\n",
      "--------------------\n",
      "tr loss at step 69000 = 2.0707554817199707\n",
      "dev loss = 2.4288811683654785\n",
      "lr = 0.03018733660261177\n",
      "--------------------\n",
      "tr loss at step 70000 = 2.063852310180664\n",
      "dev loss = 2.435321807861328\n",
      "lr = 0.029924340667751632\n",
      "--------------------\n",
      "tr loss at step 71000 = 2.0675880908966064\n",
      "dev loss = 2.433199167251587\n",
      "lr = 0.0296668240671527\n",
      "--------------------\n",
      "tr loss at step 72000 = 2.063340902328491\n",
      "dev loss = 2.429577350616455\n",
      "lr = 0.029414601995698897\n",
      "--------------------\n",
      "tr loss at step 73000 = 2.075723171234131\n",
      "dev loss = 2.4439003467559814\n",
      "lr = 0.029167498258854185\n",
      "--------------------\n",
      "tr loss at step 74000 = 2.0685439109802246\n",
      "dev loss = 2.4297473430633545\n",
      "lr = 0.028925344762496953\n",
      "--------------------\n",
      "tr loss at step 75000 = 2.0775582790374756\n",
      "dev loss = 2.4408442974090576\n",
      "lr = 0.028687981039303184\n",
      "--------------------\n",
      "tr loss at step 76000 = 2.0623562335968018\n",
      "dev loss = 2.4156086444854736\n",
      "lr = 0.028455253808617104\n",
      "--------------------\n",
      "tr loss at step 77000 = 2.06784725189209\n",
      "dev loss = 2.4232914447784424\n",
      "lr = 0.028227016567040943\n",
      "--------------------\n",
      "tr loss at step 78000 = 2.054276704788208\n",
      "dev loss = 2.4164977073669434\n",
      "lr = 0.02800312920723684\n",
      "--------------------\n",
      "tr loss at step 79000 = 2.064216136932373\n",
      "dev loss = 2.4335317611694336\n",
      "lr = 0.027783457662666943\n",
      "--------------------\n",
      "tr loss at step 80000 = 2.052173137664795\n",
      "dev loss = 2.419232130050659\n",
      "lr = 0.027567873576207467\n",
      "--------------------\n",
      "tr loss at step 81000 = 2.052814245223999\n",
      "dev loss = 2.410681962966919\n",
      "lr = 0.027356253990760075\n",
      "--------------------\n",
      "tr loss at step 82000 = 2.0469980239868164\n",
      "dev loss = 2.406257390975952\n",
      "lr = 0.0271484810601517\n",
      "--------------------\n",
      "tr loss at step 83000 = 2.044877767562866\n",
      "dev loss = 2.402811288833618\n",
      "lr = 0.02694444177876685\n",
      "--------------------\n",
      "tr loss at step 84000 = 2.041426181793213\n",
      "dev loss = 2.4092938899993896\n",
      "lr = 0.02674402772849101\n",
      "--------------------\n",
      "tr loss at step 85000 = 2.050959825515747\n",
      "dev loss = 2.415658712387085\n",
      "lr = 0.02654713484166904\n",
      "--------------------\n",
      "tr loss at step 86000 = 2.0564165115356445\n",
      "dev loss = 2.4203803539276123\n",
      "lr = 0.026353663178891075\n",
      "--------------------\n",
      "tr loss at step 87000 = 2.0497560501098633\n",
      "dev loss = 2.4244303703308105\n",
      "lr = 0.026163516720521144\n",
      "--------------------\n",
      "tr loss at step 88000 = 2.0461816787719727\n",
      "dev loss = 2.4227607250213623\n",
      "lr = 0.025976603170972945\n",
      "--------------------\n",
      "tr loss at step 89000 = 2.052175283432007\n",
      "dev loss = 2.4307477474212646\n",
      "lr = 0.025792833774820313\n",
      "--------------------\n",
      "tr loss at step 90000 = 2.0547735691070557\n",
      "dev loss = 2.43039870262146\n",
      "lr = 0.025612123143904448\n",
      "--------------------\n",
      "tr loss at step 91000 = 2.040440559387207\n",
      "dev loss = 2.419044256210327\n",
      "lr = 0.02543438909466771\n",
      "--------------------\n",
      "tr loss at step 92000 = 2.052680015563965\n",
      "dev loss = 2.434185028076172\n",
      "lr = 0.02525955249500577\n",
      "--------------------\n",
      "tr loss at step 93000 = 2.03913950920105\n",
      "dev loss = 2.4238216876983643\n",
      "lr = 0.02508753711998526\n",
      "--------------------\n",
      "tr loss at step 94000 = 2.0463974475860596\n",
      "dev loss = 2.4336960315704346\n",
      "lr = 0.02491826951582638\n",
      "--------------------\n",
      "tr loss at step 95000 = 2.0373268127441406\n",
      "dev loss = 2.411992311477661\n",
      "lr = 0.024751678871595132\n",
      "--------------------\n",
      "tr loss at step 96000 = 2.0373387336730957\n",
      "dev loss = 2.409733295440674\n",
      "lr = 0.024587696898093852\n",
      "--------------------\n",
      "tr loss at step 97000 = 2.0511491298675537\n",
      "dev loss = 2.441044569015503\n",
      "lr = 0.024426257713476396\n",
      "--------------------\n",
      "tr loss at step 98000 = 2.0380685329437256\n",
      "dev loss = 2.425477981567383\n",
      "lr = 0.024267297735150652\n",
      "--------------------\n",
      "tr loss at step 99000 = 2.0377326011657715\n",
      "dev loss = 2.419562578201294\n",
      "lr = 0.024110755577563356\n",
      "--------------------\n",
      "tr loss at step 100000 = 2.0382726192474365\n",
      "dev loss = 2.43017315864563\n",
      "lr = 0.023956571955491994\n",
      "--------------------\n",
      "tr loss at step 101000 = 2.030565023422241\n",
      "dev loss = 2.4072203636169434\n",
      "lr = 0.023804689592496184\n",
      "--------------------\n",
      "tr loss at step 102000 = 2.034104824066162\n",
      "dev loss = 2.417999029159546\n",
      "lr = 0.023655053134205704\n",
      "--------------------\n",
      "tr loss at step 103000 = 2.0314950942993164\n",
      "dev loss = 2.415961742401123\n",
      "lr = 0.023507609066145803\n",
      "--------------------\n",
      "tr loss at step 104000 = 2.028097629547119\n",
      "dev loss = 2.4127442836761475\n",
      "lr = 0.023362305635821277\n",
      "--------------------\n",
      "tr loss at step 105000 = 2.024714231491089\n",
      "dev loss = 2.40486741065979\n",
      "lr = 0.023219092778800694\n",
      "--------------------\n",
      "tr loss at step 106000 = 2.0297670364379883\n",
      "dev loss = 2.4176182746887207\n",
      "lr = 0.02307792204856006\n",
      "--------------------\n",
      "tr loss at step 107000 = 2.0378143787384033\n",
      "dev loss = 2.4259378910064697\n",
      "lr = 0.022938746549861326\n",
      "--------------------\n",
      "tr loss at step 108000 = 2.037076950073242\n",
      "dev loss = 2.4193222522735596\n",
      "lr = 0.0228015208754575\n",
      "--------------------\n",
      "tr loss at step 109000 = 2.0268402099609375\n",
      "dev loss = 2.41678524017334\n",
      "lr = 0.022666201045928917\n",
      "--------------------\n",
      "tr loss at step 110000 = 2.0219171047210693\n",
      "dev loss = 2.4093873500823975\n",
      "lr = 0.022532744452469607\n",
      "--------------------\n",
      "tr loss at step 111000 = 2.0279829502105713\n",
      "dev loss = 2.4078330993652344\n",
      "lr = 0.022401109802453537\n",
      "--------------------\n",
      "tr loss at step 112000 = 2.0248148441314697\n",
      "dev loss = 2.41933274269104\n",
      "lr = 0.022271257067622924\n",
      "--------------------\n",
      "tr loss at step 113000 = 2.0306272506713867\n",
      "dev loss = 2.4281420707702637\n",
      "lr = 0.022143147434749814\n",
      "--------------------\n",
      "tr loss at step 114000 = 2.0343053340911865\n",
      "dev loss = 2.423306465148926\n",
      "lr = 0.02201674325863292\n",
      "--------------------\n",
      "tr loss at step 115000 = 2.0184671878814697\n",
      "dev loss = 2.409947633743286\n",
      "lr = 0.021892008017299916\n",
      "--------------------\n",
      "tr loss at step 116000 = 2.0214803218841553\n",
      "dev loss = 2.4108948707580566\n",
      "lr = 0.02176890626929367\n",
      "--------------------\n",
      "tr loss at step 117000 = 2.027703046798706\n",
      "dev loss = 2.4299187660217285\n",
      "lr = 0.02164740361292877\n",
      "--------------------\n",
      "tr loss at step 118000 = 2.0159480571746826\n",
      "dev loss = 2.4066739082336426\n",
      "lr = 0.02152746664741175\n",
      "--------------------\n",
      "tr loss at step 119000 = 2.02701473236084\n",
      "dev loss = 2.413724422454834\n",
      "lr = 0.021409062935725004\n",
      "--------------------\n",
      "tr loss at step 120000 = 2.0154333114624023\n",
      "dev loss = 2.411588191986084\n",
      "lr = 0.021292160969180223\n",
      "--------------------\n",
      "tr loss at step 121000 = 2.014502763748169\n",
      "dev loss = 2.406801700592041\n",
      "lr = 0.021176730133553753\n",
      "--------------------\n",
      "tr loss at step 122000 = 2.0334455966949463\n",
      "dev loss = 2.423604726791382\n",
      "lr = 0.021062740676720523\n",
      "--------------------\n",
      "tr loss at step 123000 = 2.02074933052063\n",
      "dev loss = 2.42421817779541\n",
      "lr = 0.020950163677708966\n",
      "--------------------\n",
      "tr loss at step 124000 = 2.0156986713409424\n",
      "dev loss = 2.419785261154175\n",
      "lr = 0.020838971017103733\n",
      "--------------------\n",
      "tr loss at step 125000 = 2.0133183002471924\n",
      "dev loss = 2.4105312824249268\n",
      "lr = 0.020729135348727234\n",
      "--------------------\n",
      "tr loss at step 126000 = 2.013991117477417\n",
      "dev loss = 2.412429094314575\n",
      "lr = 0.02062063007253509\n",
      "--------------------\n",
      "tr loss at step 127000 = 2.013425350189209\n",
      "dev loss = 2.406367063522339\n",
      "lr = 0.02051342930866453\n",
      "--------------------\n",
      "tr loss at step 128000 = 2.016679286956787\n",
      "dev loss = 2.4259402751922607\n",
      "lr = 0.02040750787257821\n",
      "--------------------\n",
      "tr loss at step 129000 = 2.0059237480163574\n",
      "dev loss = 2.3973307609558105\n",
      "lr = 0.02030284125124889\n",
      "--------------------\n",
      "tr loss at step 130000 = 2.020113229751587\n",
      "dev loss = 2.4216928482055664\n",
      "lr = 0.020199405580334256\n",
      "--------------------\n",
      "tr loss at step 131000 = 2.0131516456604004\n",
      "dev loss = 2.422869920730591\n",
      "lr = 0.020097177622293075\n",
      "--------------------\n",
      "tr loss at step 132000 = 2.011554718017578\n",
      "dev loss = 2.4092328548431396\n",
      "lr = 0.019996134745397545\n",
      "--------------------\n",
      "tr loss at step 133000 = 2.0098206996917725\n",
      "dev loss = 2.4115395545959473\n",
      "lr = 0.01989625490359835\n",
      "--------------------\n",
      "tr loss at step 134000 = 2.0178208351135254\n",
      "dev loss = 2.4290146827697754\n",
      "lr = 0.019797516617202054\n",
      "--------------------\n",
      "tr loss at step 135000 = 2.0100502967834473\n",
      "dev loss = 2.4145424365997314\n",
      "lr = 0.019699898954322236\n",
      "--------------------\n",
      "tr loss at step 136000 = 2.016115188598633\n",
      "dev loss = 2.426513195037842\n",
      "lr = 0.019603381513067952\n",
      "--------------------\n",
      "tr loss at step 137000 = 2.0010085105895996\n",
      "dev loss = 2.4041473865509033\n",
      "lr = 0.019507944404435196\n",
      "--------------------\n",
      "tr loss at step 138000 = 2.000894546508789\n",
      "dev loss = 2.413123369216919\n",
      "lr = 0.019413568235868584\n",
      "--------------------\n",
      "tr loss at step 139000 = 2.0118157863616943\n",
      "dev loss = 2.4211392402648926\n",
      "lr = 0.019320234095462793\n",
      "--------------------\n",
      "tr loss at step 140000 = 2.0047101974487305\n",
      "dev loss = 2.412829875946045\n",
      "lr = 0.019227923536774102\n",
      "--------------------\n",
      "tr loss at step 141000 = 2.010009288787842\n",
      "dev loss = 2.42718243598938\n",
      "lr = 0.019136618564214662\n",
      "--------------------\n",
      "tr loss at step 142000 = 1.999042272567749\n",
      "dev loss = 2.406444787979126\n",
      "lr = 0.01904630161900309\n",
      "--------------------\n",
      "tr loss at step 143000 = 2.0073421001434326\n",
      "dev loss = 2.4180750846862793\n",
      "lr = 0.018956955565646576\n",
      "--------------------\n",
      "tr loss at step 144000 = 2.0072336196899414\n",
      "dev loss = 2.4216623306274414\n",
      "lr = 0.01886856367893083\n",
      "--------------------\n",
      "tr loss at step 145000 = 2.0044727325439453\n",
      "dev loss = 2.4173717498779297\n",
      "lr = 0.018781109631395464\n",
      "--------------------\n",
      "tr loss at step 146000 = 1.9987114667892456\n",
      "dev loss = 2.4043853282928467\n",
      "lr = 0.01869457748127364\n",
      "--------------------\n",
      "tr loss at step 147000 = 2.0043396949768066\n",
      "dev loss = 2.413414239883423\n",
      "lr = 0.018608951660875568\n",
      "--------------------\n",
      "tr loss at step 148000 = 2.005178451538086\n",
      "dev loss = 2.415886163711548\n",
      "lr = 0.01852421696539691\n",
      "--------------------\n",
      "tr loss at step 149000 = 1.9962763786315918\n",
      "dev loss = 2.4193103313446045\n",
      "lr = 0.018440358542133606\n",
      "--------------------\n",
      "tr loss at step 150000 = 2.0016098022460938\n",
      "dev loss = 2.414469003677368\n",
      "lr = 0.01835736188008592\n",
      "--------------------\n",
      "tr loss at step 151000 = 1.9939321279525757\n",
      "dev loss = 2.406404495239258\n",
      "lr = 0.018275212799935176\n",
      "--------------------\n",
      "tr loss at step 152000 = 1.9974435567855835\n",
      "dev loss = 2.412446975708008\n",
      "lr = 0.018193897444377563\n",
      "--------------------\n",
      "tr loss at step 153000 = 1.9999703168869019\n",
      "dev loss = 2.4131124019622803\n",
      "lr = 0.018113402268799785\n",
      "--------------------\n",
      "tr loss at step 154000 = 2.0044119358062744\n",
      "dev loss = 2.4122533798217773\n",
      "lr = 0.01803371403228275\n",
      "--------------------\n",
      "tr loss at step 155000 = 1.997231364250183\n",
      "dev loss = 2.419379234313965\n",
      "lr = 0.017954819788919486\n",
      "--------------------\n",
      "tr loss at step 156000 = 1.998995065689087\n",
      "dev loss = 2.4125847816467285\n",
      "lr = 0.017876706879434403\n",
      "--------------------\n",
      "tr loss at step 157000 = 1.9972745180130005\n",
      "dev loss = 2.4086320400238037\n",
      "lr = 0.017799362923091665\n",
      "--------------------\n",
      "tr loss at step 158000 = 1.9963252544403076\n",
      "dev loss = 2.427039861679077\n",
      "lr = 0.017722775809881054\n",
      "--------------------\n",
      "tr loss at step 159000 = 2.0014874935150146\n",
      "dev loss = 2.4201812744140625\n",
      "lr = 0.01764693369296986\n",
      "--------------------\n",
      "tr loss at step 160000 = 1.992362380027771\n",
      "dev loss = 2.41764760017395\n",
      "lr = 0.017571824981410467\n",
      "--------------------\n",
      "tr loss at step 161000 = 1.9930249452590942\n",
      "dev loss = 2.4143476486206055\n",
      "lr = 0.017497438333093297\n",
      "--------------------\n",
      "tr loss at step 162000 = 1.995237112045288\n",
      "dev loss = 2.4109697341918945\n",
      "lr = 0.01742376264793537\n",
      "--------------------\n",
      "tr loss at step 163000 = 1.9927152395248413\n",
      "dev loss = 2.415147542953491\n",
      "lr = 0.017350787061295395\n",
      "--------------------\n",
      "tr loss at step 164000 = 1.9921563863754272\n",
      "dev loss = 2.4106833934783936\n",
      "lr = 0.01727850093760635\n",
      "--------------------\n",
      "tr loss at step 165000 = 1.9971171617507935\n",
      "dev loss = 2.4265384674072266\n",
      "lr = 0.01720689386421717\n",
      "--------------------\n",
      "tr loss at step 166000 = 1.9849762916564941\n",
      "dev loss = 2.4125397205352783\n",
      "lr = 0.01713595564543569\n",
      "--------------------\n",
      "tr loss at step 167000 = 1.996786117553711\n",
      "dev loss = 2.4121901988983154\n",
      "lr = 0.017065676296764642\n",
      "--------------------\n",
      "tr loss at step 168000 = 1.986755132675171\n",
      "dev loss = 2.407632350921631\n",
      "lr = 0.016996046039323847\n",
      "--------------------\n",
      "tr loss at step 169000 = 1.9911044836044312\n",
      "dev loss = 2.4191577434539795\n",
      "lr = 0.016927055294451227\n",
      "--------------------\n",
      "tr loss at step 170000 = 1.9946372509002686\n",
      "dev loss = 2.4193875789642334\n",
      "lr = 0.016858694678475995\n",
      "--------------------\n",
      "tr loss at step 171000 = 1.9876919984817505\n",
      "dev loss = 2.4070844650268555\n",
      "lr = 0.016790954997657613\n",
      "--------------------\n",
      "tr loss at step 172000 = 1.9950278997421265\n",
      "dev loss = 2.419360637664795\n",
      "lr = 0.01672382724328427\n",
      "--------------------\n",
      "tr loss at step 173000 = 1.9849979877471924\n",
      "dev loss = 2.4153034687042236\n",
      "lr = 0.0166573025869249\n",
      "--------------------\n",
      "tr loss at step 174000 = 1.9935215711593628\n",
      "dev loss = 2.4099366664886475\n",
      "lr = 0.01659137237582936\n",
      "--------------------\n",
      "tr loss at step 175000 = 1.9906182289123535\n",
      "dev loss = 2.4218573570251465\n",
      "lr = 0.016526028128471055\n",
      "--------------------\n",
      "tr loss at step 176000 = 1.9836524724960327\n",
      "dev loss = 2.4142792224884033\n",
      "lr = 0.016461261530226864\n",
      "--------------------\n",
      "tr loss at step 177000 = 1.9876149892807007\n",
      "dev loss = 2.4223520755767822\n",
      "lr = 0.01639706442918958\n",
      "--------------------\n",
      "tr loss at step 178000 = 1.9873569011688232\n",
      "dev loss = 2.426971435546875\n",
      "lr = 0.016333428832107897\n",
      "--------------------\n",
      "tr loss at step 179000 = 1.9862960577011108\n",
      "dev loss = 2.4175541400909424\n",
      "lr = 0.01627034690044942\n",
      "--------------------\n",
      "tr loss at step 180000 = 1.982211947441101\n",
      "dev loss = 2.414332389831543\n",
      "lr = 0.016207810946582444\n",
      "--------------------\n",
      "tr loss at step 181000 = 1.9884908199310303\n",
      "dev loss = 2.4250574111938477\n",
      "lr = 0.01614581343007206\n",
      "--------------------\n",
      "tr loss at step 182000 = 1.9887382984161377\n",
      "dev loss = 2.4132776260375977\n",
      "lr = 0.016084346954086746\n",
      "--------------------\n",
      "tr loss at step 183000 = 1.9886226654052734\n",
      "dev loss = 2.4275197982788086\n",
      "lr = 0.016023404261911536\n",
      "--------------------\n",
      "tr loss at step 184000 = 1.9819608926773071\n",
      "dev loss = 2.4121885299682617\n",
      "lr = 0.015962978233564032\n",
      "--------------------\n",
      "tr loss at step 185000 = 1.979986548423767\n",
      "dev loss = 2.4124093055725098\n",
      "lr = 0.015903061882509596\n",
      "--------------------\n",
      "tr loss at step 186000 = 1.9775129556655884\n",
      "dev loss = 2.41347336769104\n",
      "lr = 0.01584364835247255\n",
      "--------------------\n",
      "tr loss at step 187000 = 1.984908938407898\n",
      "dev loss = 2.4172186851501465\n",
      "lr = 0.015784730914339785\n",
      "--------------------\n",
      "tr loss at step 188000 = 1.9827032089233398\n",
      "dev loss = 2.423691749572754\n",
      "lr = 0.01572630296315387\n",
      "--------------------\n",
      "tr loss at step 189000 = 1.9803204536437988\n",
      "dev loss = 2.428668975830078\n",
      "lr = 0.015668358015192545\n",
      "--------------------\n",
      "tr loss at step 190000 = 1.985717535018921\n",
      "dev loss = 2.4296720027923584\n",
      "lr = 0.015610889705131555\n",
      "--------------------\n",
      "tr loss at step 191000 = 1.9771450757980347\n",
      "dev loss = 2.410430908203125\n",
      "lr = 0.015553891783288273\n",
      "--------------------\n",
      "tr loss at step 192000 = 1.977097749710083\n",
      "dev loss = 2.407160758972168\n",
      "lr = 0.015497358112943175\n",
      "--------------------\n",
      "tr loss at step 193000 = 1.9881582260131836\n",
      "dev loss = 2.4272212982177734\n",
      "lr = 0.015441282667736766\n",
      "--------------------\n",
      "tr loss at step 194000 = 1.978845477104187\n",
      "dev loss = 2.4152472019195557\n",
      "lr = 0.015385659529139251\n",
      "--------------------\n",
      "tr loss at step 195000 = 1.9833221435546875\n",
      "dev loss = 2.4271774291992188\n",
      "lr = 0.015330482883990835\n",
      "--------------------\n",
      "tr loss at step 196000 = 1.9806087017059326\n",
      "dev loss = 2.4224722385406494\n",
      "lr = 0.015275747022110046\n",
      "--------------------\n",
      "tr loss at step 197000 = 1.9765514135360718\n",
      "dev loss = 2.410385847091675\n",
      "lr = 0.015221446333968084\n",
      "--------------------\n",
      "tr loss at step 198000 = 1.9774408340454102\n",
      "dev loss = 2.413731098175049\n",
      "lr = 0.015167575308426946\n",
      "--------------------\n",
      "tr loss at step 199000 = 1.9769514799118042\n",
      "dev loss = 2.4163944721221924\n",
      "lr = 0.015114128530539332\n",
      "--------------------\n",
      "tr loss at step 200000 = 1.9812546968460083\n",
      "dev loss = 2.4145936965942383\n",
      "lr = 0.015061100679408272\n"
     ]
    }
   ],
   "source": [
    "for i in range(200000):\n",
    "    batch_ixs = torch.randint(0, Xtr.shape[0], (32,))\n",
    "\n",
    "    # forward pass\n",
    "    emb = C[Xtr[batch_ixs]]\n",
    "    h = torch.tanh(emb.view(-1, 30) @ W1 + b1)\n",
    "    logits = h @ W2 + b2\n",
    "    reg = 0.05 * sum((p ** 2).mean() for p in parameters)\n",
    "    loss = F.cross_entropy(logits, Ytr[batch_ixs]) + reg\n",
    "\n",
    "\n",
    "    # backward pass\n",
    "    for p in parameters:\n",
    "        p.grad = None\n",
    "\n",
    "    loss.backward()\n",
    "    alpha = 0.135\n",
    "    gamma = 1\n",
    "    beta = -np.log(gamma) - 1\n",
    "    lr = np.exp(-((i + 1) ** alpha + beta))\n",
    "    for p in parameters:\n",
    "        p.data -= lr * p.grad\n",
    "\n",
    "    stepi.append(i)\n",
    "    # lri.append(lr)\n",
    "    lossi.append(loss.log10().item())\n",
    "\n",
    "    if (i + 1) % 1000 == 0:\n",
    "        print(\"--------------------\")\n",
    "        emb = C[Xtr]\n",
    "        h = torch.tanh(emb.view(-1, 30) @ W1 + b1)\n",
    "        logits = h @ W2 + b2\n",
    "        overall_loss = F.cross_entropy(logits, Ytr)\n",
    "        print(f\"tr loss at step {i+1} = {overall_loss.item()}\")\n",
    "        emb = C[Xdev]\n",
    "        h = torch.tanh(emb.view(-1, 30) @ W1 + b1)\n",
    "        logits = h @ W2 + b2\n",
    "        overall_loss = F.cross_entropy(logits, Ydev)\n",
    "        print(f\"dev loss = {overall_loss.item()}\")\n",
    "        print(f\"lr = {lr}\")"
   ]
  },
  {
   "cell_type": "code",
   "execution_count": 416,
   "metadata": {},
   "outputs": [
    {
     "data": {
      "text/plain": [
       "[<matplotlib.lines.Line2D at 0x7f3fb08b7970>]"
      ]
     },
     "execution_count": 416,
     "metadata": {},
     "output_type": "execute_result"
    },
    {
     "data": {
      "image/png": "[encoded data removed]",
      "text/plain": [
       "<Figure size 432x288 with 1 Axes>"
      ]
     },
     "metadata": {
      "needs_background": "light"
     },
     "output_type": "display_data"
    }
   ],
   "source": [
    "plt.plot(stepi, lossi)"
   ]
  },
  {
   "cell_type": "code",
   "execution_count": 417,
   "metadata": {},
   "outputs": [
    {
     "data": {
      "text/plain": [
       "tensor(1.9813, grad_fn=<NllLossBackward0>)"
      ]
     },
     "execution_count": 417,
     "metadata": {},
     "output_type": "execute_result"
    }
   ],
   "source": [
    "emb = C[Xtr]\n",
    "h = torch.tanh(emb.view(-1, 30) @ W1 + b1)\n",
    "logits = h @ W2 + b2\n",
    "overall_loss = F.cross_entropy(logits, Ytr)\n",
    "overall_loss"
   ]
  },
  {
   "cell_type": "code",
   "execution_count": 418,
   "metadata": {},
   "outputs": [
    {
     "data": {
      "text/plain": [
       "tensor(2.4146, grad_fn=<NllLossBackward0>)"
      ]
     },
     "execution_count": 418,
     "metadata": {},
     "output_type": "execute_result"
    }
   ],
   "source": [
    "emb = C[Xdev]\n",
    "h = torch.tanh(emb.view(-1, 30) @ W1 + b1)\n",
    "logits = h @ W2 + b2\n",
    "overall_loss = F.cross_entropy(logits, Ydev)\n",
    "overall_loss"
   ]
  },
  {
   "cell_type": "code",
   "execution_count": 419,
   "metadata": {},
   "outputs": [
    {
     "name": "stdout",
     "output_type": "stream",
     "text": [
      "carmahzailyn.\n",
      "vihaimesi.\n",
      "tate.\n",
      "sacessa.\n",
      "jazonie.\n"
     ]
    }
   ],
   "source": [
    "g = torch.Generator().manual_seed(2147483647 + 10)\n",
    "\n",
    "for _ in range(5):\n",
    "    out = []\n",
    "    context = [0] * block_size\n",
    "    while True:\n",
    "        emb = C[torch.tensor([context])]\n",
    "        h = torch.tanh(emb.view(1, -1) @ W1 + b1)\n",
    "        logits = h @ W2 + b2\n",
    "        probs = F.softmax(logits, dim=1)\n",
    "        ix = torch.multinomial(probs, num_samples=1, generator=g).item()\n",
    "        context = context[1:] + [ix]\n",
    "        out.append(ix)\n",
    "        if ix == 0:\n",
    "            break\n",
    "\n",
    "    print(\"\".join(itos[i] for i in out))"
   ]
  },
  {
   "cell_type": "code",
   "execution_count": null,
   "metadata": {},
   "outputs": [],
   "source": []
  }
 ],
 "metadata": {
  "kernelspec": {
   "display_name": "Python 3.9.12 ('base')",
   "language": "python",
   "name": "python3"
  },
  "language_info": {
   "codemirror_mode": {
    "name": "ipython",
    "version": 3
   },
   "file_extension": ".py",
   "mimetype": "text/x-python",
   "name": "python",
   "nbconvert_exporter": "python",
   "pygments_lexer": "ipython3",
   "version": "3.9.12"
  },
  "orig_nbformat": 4,
  "vscode": {
   "interpreter": {
    "hash": "a15702a29ea01ae7aa6b51d803dd08c0ac5dbedc153ed7a5fc67a3e004dd827d"
   }
  }
 },
 "nbformat": 4,
 "nbformat_minor": 2
}
