{
 "cells": [
  {
   "cell_type": "code",
   "execution_count": 4,
   "metadata": {},
   "outputs": [],
   "source": [
    "import torch\n",
    "import torch.nn.functional as F\n",
    "import matplotlib.pyplot as plt\n",
    "import random"
   ]
  },
  {
   "cell_type": "code",
   "execution_count": 168,
   "metadata": {},
   "outputs": [
    {
     "name": "stdout",
     "output_type": "stream",
     "text": [
      "32033\n",
      "15\n",
      "['emma', 'olivia', 'ava', 'isabella', 'sophia']\n"
     ]
    }
   ],
   "source": [
    "words = open(\"../names.txt\").read().splitlines()\n",
    "print(len(words))\n",
    "print(max(len(w) for w in words))\n",
    "print(words[:5])"
   ]
  },
  {
   "cell_type": "code",
   "execution_count": 169,
   "metadata": {},
   "outputs": [],
   "source": [
    "alphabet = [\".\"] + list(\"abcdefghijklmnopqrstuvwxyz\")\n",
    "stoi = {c: i for i, c in enumerate(alphabet)}\n",
    "itos = {i: c for i, c in enumerate(alphabet)}\n",
    "vocab_size = len(itos)"
   ]
  },
  {
   "cell_type": "code",
   "execution_count": 170,
   "metadata": {},
   "outputs": [],
   "source": [
    "block_size = 3\n",
    "def build_dataset(words):\n",
    "    random.seed(42)\n",
    "    random.shuffle(words)\n",
    "    \n",
    "    X, Y = [], []\n",
    "\n",
    "    for w in words:\n",
    "        context = [0] * block_size\n",
    "        for ch in w + \".\":\n",
    "            ix = stoi[ch]\n",
    "            X.append(context)\n",
    "            Y.append(ix)\n",
    "            context = context[1:] + [ix]\n",
    "    \n",
    "    X = torch.tensor(X)\n",
    "    Y = torch.tensor(Y)\n",
    "\n",
    "    n1 = int(0.8 * len(words))\n",
    "    n2 = int(0.9 * len(words))\n",
    "\n",
    "    Xtr, Ytr = X[:n1], Y[:n1]\n",
    "    Xdev, Ydev = X[n1:n2], Y[n1:n2]\n",
    "    Xte, Yte = X[n2:], Y[n2:]\n",
    "\n",
    "    return Xtr, Ytr, Xdev, Ydev, Xte, Yte\n",
    "\n",
    "Xtr, Ytr, Xdev, Ydev, Xte, Yte = build_dataset(words)"
   ]
  },
  {
   "cell_type": "code",
   "execution_count": 171,
   "metadata": {},
   "outputs": [],
   "source": [
    "#  to compare manual and backprop grads\n",
    "def cmp(s, dt, t):\n",
    "    ex = torch.all(dt == t.grad).item()\n",
    "    app = torch.allclose(dt, t.grad)\n",
    "    maxdiff = (dt - t.grad).abs().max().item()\n",
    "    meandiff = (dt - t.grad).abs().mean().item()\n",
    "    print(f\"{s:15s} | exact: {str(ex):5s} | approximate: {str(app):5s} | maxdiff: {maxdiff} | meandiff: {meandiff}\")"
   ]
  },
  {
   "cell_type": "code",
   "execution_count": 183,
   "metadata": {},
   "outputs": [
    {
     "name": "stdout",
     "output_type": "stream",
     "text": [
      "4137\n"
     ]
    }
   ],
   "source": [
    "n_embd = 10\n",
    "n_hidden = 64\n",
    "\n",
    "g = torch.Generator().manual_seed(42)\n",
    "C = torch.randn((vocab_size, n_embd), dtype=torch.float64)\n",
    "\n",
    "# layer 1\n",
    "W1 = torch.randn((n_embd * block_size, n_hidden), dtype=torch.float64, generator=g) * (5 / 3) / ((n_embd * block_size) ** 0.5)\n",
    "b1 = torch.randn(n_hidden, dtype=torch.float64, generator=g) * 0.1 # using b1 just for demo - it is useless because of batchnorm\n",
    "\n",
    "# layer 2\n",
    "W2 = torch.randn((n_hidden, vocab_size), dtype=torch.float64, generator=g) * 0.1\n",
    "b2 = torch.randn(vocab_size, dtype=torch.float64, generator=g) * 0.1\n",
    "\n",
    "# batchnorm params\n",
    "bngain = torch.randn((1, n_hidden), dtype=torch.float64) * 0.1 + 1\n",
    "bnbias = torch.randn((1, n_hidden), dtype=torch.float64) * 0.1\n",
    "\n",
    "parameters = [C, W1, b1, W2, b2, bngain, bnbias]\n",
    "print(sum(p.nelement() for p in parameters))\n",
    "for p in parameters:\n",
    "    p.requires_grad = True"
   ]
  },
  {
   "cell_type": "code",
   "execution_count": 215,
   "metadata": {},
   "outputs": [],
   "source": [
    "# construct a minibatch\n",
    "batch_size = 32\n",
    "\n",
    "batch_ixs = torch.randint(0, Xtr.shape[0], (batch_size,), generator=g)\n",
    "Xb, Yb = Xtr[batch_ixs], Ytr[batch_ixs]"
   ]
  },
  {
   "cell_type": "code",
   "execution_count": 216,
   "metadata": {},
   "outputs": [
    {
     "data": {
      "text/plain": [
       "tensor(3.3570, dtype=torch.float64, grad_fn=<NegBackward0>)"
      ]
     },
     "execution_count": 216,
     "metadata": {},
     "output_type": "execute_result"
    }
   ],
   "source": [
    "# forward pass \"chunked\" into smaller steps that are easier to backward one at a time\n",
    "\n",
    "emb = C[Xb]\n",
    "# concatenate the vectors\n",
    "embcat = emb.view((emb.shape[0], -1))\n",
    "# linear layer 1\n",
    "hprebn = embcat @ W1 + b1\n",
    "# batchnorm layer\n",
    "bnmeani = 1 / batch_size * hprebn.sum(0, keepdim=True)\n",
    "bndiff = hprebn - bnmeani\n",
    "bndiff2 = bndiff ** 2\n",
    "bnvar = (\n",
    "    1 / (batch_size - 1) * (bndiff2).sum(0, keepdim=True)\n",
    ")  # note: Bessel's correction (dividing by n-1, not n)\n",
    "bnvar_inv = (bnvar + 1e-5) ** -0.5\n",
    "bnraw = bndiff * bnvar_inv\n",
    "hpreact = bngain * bnraw + bnbias\n",
    "\n",
    "# non-linearity\n",
    "h = torch.tanh(hpreact)\n",
    "\n",
    "# linear layer 2\n",
    "logits = h @ W2 + b2\n",
    "\n",
    "# cross entropy loss\n",
    "logit_maxes = logits.max(1, keepdim=True).values\n",
    "norm_logits = logits - logit_maxes  # subtract maxes for numerical stability\n",
    "counts = norm_logits.exp()\n",
    "counts_sum = counts.sum(1, keepdim=True)\n",
    "counts_sum_inv = counts_sum ** -1\n",
    "probs = counts * counts_sum_inv\n",
    "logprobs = probs.log()\n",
    "loss = -logprobs[range(batch_size), Yb].mean()\n",
    "\n",
    "# pytorch backward pass\n",
    "for p in parameters:\n",
    "    p.grad = None\n",
    "for t in [\n",
    "    logprobs,\n",
    "    probs,\n",
    "    counts,\n",
    "    counts_sum,\n",
    "    counts_sum_inv,\n",
    "    norm_logits,\n",
    "    logit_maxes,\n",
    "    logits,\n",
    "    h,\n",
    "    hpreact,\n",
    "    bnraw,\n",
    "    bnvar_inv,\n",
    "    bnvar,\n",
    "    bndiff2,\n",
    "    bndiff,\n",
    "    hprebn,\n",
    "    bnmeani,\n",
    "    embcat,\n",
    "    emb,\n",
    "]:\n",
    "    t.retain_grad()\n",
    "loss.backward()\n",
    "loss\n"
   ]
  },
  {
   "cell_type": "code",
   "execution_count": 223,
   "metadata": {},
   "outputs": [
    {
     "name": "stdout",
     "output_type": "stream",
     "text": [
      "logprobs        | exact: True  | approximate: True  | maxdiff: 0.0 | meandiff: 0.0\n",
      "probs           | exact: True  | approximate: True  | maxdiff: 0.0 | meandiff: 0.0\n",
      "counts_sum_inv  | exact: True  | approximate: True  | maxdiff: 0.0 | meandiff: 0.0\n",
      "counts_sum      | exact: True  | approximate: True  | maxdiff: 0.0 | meandiff: 0.0\n",
      "counts          | exact: True  | approximate: True  | maxdiff: 0.0 | meandiff: 0.0\n",
      "norm_logits     | exact: True  | approximate: True  | maxdiff: 0.0 | meandiff: 0.0\n",
      "logit_maxes     | exact: True  | approximate: True  | maxdiff: 0.0 | meandiff: 0.0\n",
      "logits          | exact: True  | approximate: True  | maxdiff: 0.0 | meandiff: 0.0\n",
      "h               | exact: True  | approximate: True  | maxdiff: 0.0 | meandiff: 0.0\n",
      "W2              | exact: True  | approximate: True  | maxdiff: 0.0 | meandiff: 0.0\n",
      "b2              | exact: True  | approximate: True  | maxdiff: 0.0 | meandiff: 0.0\n",
      "hpreact         | exact: False | approximate: True  | maxdiff: 8.673617379884035e-19 | meandiff: 5.119043409936211e-20\n",
      "bngain          | exact: False | approximate: True  | maxdiff: 4.336808689942018e-18 | meandiff: 6.928729508540177e-19\n",
      "bnraw           | exact: False | approximate: True  | maxdiff: 1.3010426069826053e-18 | meandiff: 5.159166839523861e-20\n",
      "bnbias          | exact: False | approximate: True  | maxdiff: 6.938893903907228e-18 | meandiff: 1.0740377771184528e-18\n",
      "bnvar_inv       | exact: False | approximate: True  | maxdiff: 6.938893903907228e-18 | meandiff: 1.5280474368467578e-18\n",
      "bnvar           | exact: False | approximate: True  | maxdiff: 1.3010426069826053e-18 | meandiff: 2.0667603913004928e-19\n",
      "bndiff2         | exact: False | approximate: True  | maxdiff: 4.0657581468206416e-20 | meandiff: 6.52149194936807e-21\n",
      "bndiff          | exact: False | approximate: True  | maxdiff: 8.673617379884035e-19 | meandiff: 4.281280055421333e-20\n",
      "bnmeani         | exact: False | approximate: True  | maxdiff: 6.938893903907228e-18 | meandiff: 9.41900637346782e-19\n",
      "hprebn          | exact: False | approximate: True  | maxdiff: 1.734723475976807e-18 | meandiff: 6.413296725246134e-20\n",
      "W1              | exact: False | approximate: True  | maxdiff: 2.0816681711721685e-17 | meandiff: 8.88738635490329e-19\n",
      "embcat          | exact: False | approximate: True  | maxdiff: 3.469446951953614e-18 | meandiff: 4.143032256737862e-19\n",
      "b1              | exact: False | approximate: True  | maxdiff: 1.3010426069826053e-17 | meandiff: 1.0770023924338429e-18\n",
      "emb             | exact: False | approximate: True  | maxdiff: 3.469446951953614e-18 | meandiff: 4.143032256737862e-19\n",
      "C               | exact: False | approximate: True  | maxdiff: 1.0408340855860843e-17 | meandiff: 8.758948106422247e-19\n"
     ]
    }
   ],
   "source": [
    "# exercise 1: backprop through whole thing manually\n",
    "\n",
    "dlogprobs = torch.zeros_like(logprobs)\n",
    "dlogprobs[range(batch_size), Yb] = -1 / batch_size \n",
    "cmp(\"logprobs\", dlogprobs, logprobs)\n",
    "#\n",
    "dprobs = dlogprobs * (1 / probs)\n",
    "cmp(\"probs\", dprobs, probs)\n",
    "#\n",
    "dcounts_sum_inv = (dprobs * counts).sum(1, keepdim=True) # need to sum to have dims match (using same value \"multiple times\")\n",
    "dcounts = counts_sum_inv * dprobs # also do this contribution now - the other will come later\n",
    "cmp(\"counts_sum_inv\", dcounts_sum_inv, counts_sum_inv)\n",
    "# \n",
    "dcounts_sum = dcounts_sum_inv * (-counts_sum **  -2)\n",
    "cmp(\"counts_sum\", dcounts_sum, counts_sum)\n",
    "#\n",
    "dcounts += torch.ones_like(counts) * dcounts_sum # second contribution adds\n",
    "# we multiply by dcounts_sum here since counts_sum is a pure addition which acts like a \"router\" for gradients\n",
    "# simply pushing the gradient through horizontally \n",
    "cmp(\"counts\", dcounts, counts)\n",
    "#\n",
    "dnorm_logits = dcounts * norm_logits.exp()\n",
    "cmp(\"norm_logits\", dnorm_logits, norm_logits)\n",
    "#\n",
    "dlogits = dnorm_logits.clone()\n",
    "dlogit_maxes = (-dnorm_logits.clone()).sum(1, keepdim=True)\n",
    "cmp(\"logit_maxes\", dlogit_maxes, logit_maxes)\n",
    "#\n",
    "dlogits += F.one_hot(logits.max(1).indices, num_classes=logits.shape[1]) * dlogit_maxes\n",
    "cmp(\"logits\", dlogits, logits)\n",
    "#\n",
    "dh = dlogits @ W2.T \n",
    "dW2 = h.T @ dlogits\n",
    "db2 = dlogits.sum(0)\n",
    "cmp(\"h\", dh, h)\n",
    "cmp(\"W2\", dW2, W2)\n",
    "cmp(\"b2\", db2, b2)\n",
    "#\n",
    "dhpreact = (1 - h ** 2) * dh\n",
    "cmp(\"hpreact\", dhpreact, hpreact)\n",
    "#\n",
    "dbngain = (bnraw * dhpreact).sum(0, keepdim=True)\n",
    "dbnraw = bngain * dhpreact\n",
    "dbnbias = dhpreact.sum(0, keepdim=True)\n",
    "cmp(\"bngain\", dbngain, bngain)\n",
    "cmp(\"bnraw\", dbnraw, bnraw)\n",
    "cmp(\"bnbias\", dbnbias, bnbias)\n",
    "#\n",
    "dbndiff = dbnraw * bnvar_inv\n",
    "dbnvar_inv = (dbnraw * bndiff).sum(0, keepdim=True)\n",
    "cmp(\"bnvar_inv\", dbnvar_inv, bnvar_inv)\n",
    "#\n",
    "dbnvar = (-0.5 * (bnvar + 1e-5) ** -1.5) * dbnvar_inv\n",
    "cmp(\"bnvar\", dbnvar, bnvar) \n",
    "#\n",
    "dbndiff2 = (1 / (batch_size - 1)) * torch.ones_like(bndiff) * dbnvar\n",
    "cmp(\"bndiff2\", dbndiff2, bndiff2)\n",
    "#\n",
    "dbndiff += 2 * bndiff * dbndiff2\n",
    "cmp(\"bndiff\", dbndiff, bndiff)\n",
    "#\n",
    "dhprebn = dbndiff.clone()\n",
    "dbnmeani = -dbndiff.sum(0, keepdim=True)\n",
    "cmp(\"bnmeani\", dbnmeani, bnmeani)\n",
    "#\n",
    "dhprebn += (1 / batch_size) * torch.ones_like(hprebn) * dbnmeani\n",
    "cmp(\"hprebn\", dhprebn, hprebn)\n",
    "#\n",
    "dW1 = embcat.T @ dhprebn\n",
    "dembcat = dhprebn @  W1.T\n",
    "db1 = dhprebn.sum(0)\n",
    "cmp(\"W1\", dW1, W1)\n",
    "cmp(\"embcat\", dembcat, embcat)\n",
    "cmp(\"b1\", db1, b1)\n",
    "#\n",
    "demb = dembcat.view(emb.shape) \n",
    "cmp(\"emb\", demb, emb)\n",
    "#\n",
    "dC = torch.zeros_like(C)\n",
    "for k in range(Xb.shape[0]):\n",
    "    for j in range(Xb.shape[1]):\n",
    "        ix = Xb[k, j]\n",
    "        dC[ix] += demb[k, j] \n",
    "cmp(\"C\", dC, C)"
   ]
  },
  {
   "cell_type": "code",
   "execution_count": null,
   "metadata": {},
   "outputs": [],
   "source": []
  }
 ],
 "metadata": {
  "kernelspec": {
   "display_name": "Python 3.9.12 ('base')",
   "language": "python",
   "name": "python3"
  },
  "language_info": {
   "codemirror_mode": {
    "name": "ipython",
    "version": 3
   },
   "file_extension": ".py",
   "mimetype": "text/x-python",
   "name": "python",
   "nbconvert_exporter": "python",
   "pygments_lexer": "ipython3",
   "version": "3.9.12"
  },
  "orig_nbformat": 4,
  "vscode": {
   "interpreter": {
    "hash": "a15702a29ea01ae7aa6b51d803dd08c0ac5dbedc153ed7a5fc67a3e004dd827d"
   }
  }
 },
 "nbformat": 4,
 "nbformat_minor": 2
}
