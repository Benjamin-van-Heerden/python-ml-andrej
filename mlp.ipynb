{
 "cells": [
  {
   "cell_type": "code",
   "execution_count": 88,
   "metadata": {},
   "outputs": [],
   "source": [
    "import math\n",
    "import numpy as np\n",
    "import matplotlib.pyplot as plt"
   ]
  },
  {
   "cell_type": "code",
   "execution_count": 89,
   "metadata": {},
   "outputs": [],
   "source": [
    "from graphviz import Digraph\n",
    "\n",
    "\n",
    "def trace(root):\n",
    "    # builds a set of all nodes and edges in a graph\n",
    "    nodes, edges = set(), set()\n",
    "\n",
    "    def build(v):\n",
    "        if v not in nodes:\n",
    "            nodes.add(v)\n",
    "            for child in v._prev:\n",
    "                edges.add((child, v))\n",
    "                build(child)\n",
    "\n",
    "    build(root)\n",
    "    return nodes, edges\n",
    "\n",
    "\n",
    "def draw_dot(root):\n",
    "    dot = Digraph(format=\"svg\", graph_attr={\"rankdir\": \"LR\"})  # LR -> left to right\n",
    "\n",
    "    nodes, edges = trace(root)\n",
    "    for n in nodes:\n",
    "        uid = str(id(n))\n",
    "        # for any value in the graph, create a rectangular (\"record\") node for it\n",
    "        dot.node(\n",
    "            name=uid,\n",
    "            label=f\"{n.label.title() if n.label else 'Derived'} | value = {n.data:.4f} | grad = {n.grad:.4f}\",\n",
    "            shape=\"record\",\n",
    "        )\n",
    "        if n._op:\n",
    "            # if this value is the result of some operation, create an op node for it\n",
    "            dot.node(name=uid + n._op, label=n._op)\n",
    "            # and connect this node to it\n",
    "            dot.edge(uid + n._op, uid)\n",
    "\n",
    "    for n1, n2 in edges:\n",
    "        # connect n1 to the op node of n2\n",
    "        dot.edge(str(id(n1)), str(id(n2)) + n2._op)\n",
    "\n",
    "    return dot\n"
   ]
  },
  {
   "cell_type": "code",
   "execution_count": 395,
   "metadata": {},
   "outputs": [],
   "source": [
    "class Value:\n",
    "    def __init__(self, data, _children=(), _op=\"\", label=\"\"):\n",
    "        self.data = data\n",
    "        self._prev = set(_children)\n",
    "        self._op = _op\n",
    "        self.label = label\n",
    "        self.grad = 0\n",
    "        self._backward = lambda: None\n",
    "\n",
    "    def __repr__(self):\n",
    "        if self.label:\n",
    "            return f\"{self.label}=Value({self.data})\"\n",
    "        else:\n",
    "            return f\"Value({self.data})\"\n",
    "\n",
    "    def __add__(self, other):\n",
    "        other = other if isinstance(other, Value) else Value(other)\n",
    "        out = Value(self.data + other.data, (self, other), \"+\")\n",
    "\n",
    "        def _backward():\n",
    "            self.grad += out.grad\n",
    "            other.grad += out.grad\n",
    "\n",
    "        out._backward = _backward\n",
    "\n",
    "        return out\n",
    "\n",
    "    def __mul__(self, other):\n",
    "        other = other if isinstance(other, Value) else Value(other)\n",
    "        out = Value(self.data * other.data, (self, other), \"*\")\n",
    "\n",
    "        def _backward():\n",
    "            self.grad += other.data * out.grad\n",
    "            other.grad += self.data * out.grad\n",
    "\n",
    "        out._backward = _backward\n",
    "\n",
    "        return out\n",
    "\n",
    "    def __pow__(self, other):\n",
    "        assert isinstance(\n",
    "            other, (int, float)\n",
    "        ), \"only supporting int/float powers for now\"\n",
    "        out = Value(self.data ** other, (self,), f\"**{other}\")\n",
    "\n",
    "        def _backward():\n",
    "            self.grad += (other * self.data ** (other - 1)) * out.grad\n",
    "\n",
    "        out._backward = _backward\n",
    "\n",
    "        return out\n",
    "\n",
    "    def exp(self):\n",
    "        x = self.data\n",
    "        out = Value(math.exp(x), (self,), \"exp\")\n",
    "\n",
    "        def _backward():\n",
    "            self.grad += out.data * out.grad\n",
    "\n",
    "        out._backward = _backward\n",
    "\n",
    "        return out\n",
    "\n",
    "    def tanh(self):\n",
    "        x = self.data\n",
    "        t = (math.exp(2 * x) - 1) / (math.exp(2 * x) + 1)\n",
    "        out = Value(t, (self,), \"tanh\")\n",
    "\n",
    "        def _backward():\n",
    "            self.grad += (1 - t ** 2) * out.grad\n",
    "\n",
    "        out._backward = _backward\n",
    "\n",
    "        return out\n",
    "\n",
    "    def backward(self):\n",
    "        topological_sort = []\n",
    "        visited = set()\n",
    "\n",
    "        def build_topological_sort(v):\n",
    "            if v not in visited:\n",
    "                visited.add(v)\n",
    "                for child in v._prev:\n",
    "                    build_topological_sort(child)\n",
    "                topological_sort.append(v)\n",
    "\n",
    "        build_topological_sort(self)\n",
    "        self.grad = 1\n",
    "        for node in reversed(topological_sort):\n",
    "            node._backward()\n",
    "\n",
    "    def __neg__(self):  # -self\n",
    "        return self * -1\n",
    "\n",
    "    def __radd__(self, other):  # other + self\n",
    "        return self + other\n",
    "\n",
    "    def __sub__(self, other):  # self - other\n",
    "        return self + (-other)\n",
    "\n",
    "    def __rsub__(self, other):  # other - self\n",
    "        return other + (-self)\n",
    "\n",
    "    def __rmul__(self, other):  # other * self\n",
    "        return self * other\n",
    "\n",
    "    def __truediv__(self, other):  # self / other\n",
    "        return self * other ** -1\n",
    "\n",
    "    def __rtruediv__(self, other):  # other / self\n",
    "        return other * self ** -1\n",
    "\n",
    "    def __repr__(self):\n",
    "        return f\"Value(data={self.data}, grad={self.grad})\"\n"
   ]
  },
  {
   "cell_type": "code",
   "execution_count": 396,
   "metadata": {},
   "outputs": [
    {
     "data": {
      "image/svg+xml": "<?xml version=\"1.0\" encoding=\"UTF-8\" standalone=\"no\"?>\n<!DOCTYPE svg PUBLIC \"-//W3C//DTD SVG 1.1//EN\"\n \"http://www.w3.org/Graphics/SVG/1.1/DTD/svg11.dtd\">\n<!-- Generated by graphviz version 2.43.0 (0)\n -->\n<!-- Title: %3 Pages: 1 -->\n<svg width=\"1162pt\" height=\"342pt\"\n viewBox=\"0.00 0.00 1161.69 342.00\" xmlns=\"http://www.w3.org/2000/svg\" xmlns:xlink=\"http://www.w3.org/1999/xlink\">\n<g id=\"graph0\" class=\"graph\" transform=\"scale(1 1) rotate(0) translate(4 338)\">\n<title>%3</title>\n<polygon fill=\"white\" stroke=\"transparent\" points=\"-4,4 -4,-338 1157.69,-338 1157.69,4 -4,4\"/>\n<!-- 140638319958528 -->\n<g id=\"node1\" class=\"node\">\n<title>140638319958528</title>\n<polygon fill=\"none\" stroke=\"black\" points=\"258.5,-88.5 258.5,-157.5 383.5,-157.5 383.5,-88.5 258.5,-88.5\"/>\n<text text-anchor=\"middle\" x=\"321\" y=\"-142.3\" font-family=\"Times,serif\" font-size=\"14.00\">X2W2</text>\n<polyline fill=\"none\" stroke=\"black\" points=\"258.5,-134.5 383.5,-134.5 \"/>\n<text text-anchor=\"middle\" x=\"321\" y=\"-119.3\" font-family=\"Times,serif\" font-size=\"14.00\">value = 0.0000</text>\n<polyline fill=\"none\" stroke=\"black\" points=\"258.5,-111.5 383.5,-111.5 \"/>\n<text text-anchor=\"middle\" x=\"321\" y=\"-96.3\" font-family=\"Times,serif\" font-size=\"14.00\">grad = 0.5000</text>\n</g>\n<!-- 140638319959248+ -->\n<g id=\"node8\" class=\"node\">\n<title>140638319959248+</title>\n<ellipse fill=\"none\" stroke=\"black\" cx=\"449\" cy=\"-167\" rx=\"27\" ry=\"18\"/>\n<text text-anchor=\"middle\" x=\"449\" y=\"-163.3\" font-family=\"Times,serif\" font-size=\"14.00\">+</text>\n</g>\n<!-- 140638319958528&#45;&gt;140638319959248+ -->\n<g id=\"edge11\" class=\"edge\">\n<title>140638319958528&#45;&gt;140638319959248+</title>\n<path fill=\"none\" stroke=\"black\" d=\"M383.52,-144.48C394.47,-148.31 405.47,-152.15 415.21,-155.55\"/>\n<polygon fill=\"black\" stroke=\"black\" points=\"414.25,-158.92 424.84,-158.91 416.56,-152.31 414.25,-158.92\"/>\n</g>\n<!-- 140638319958528* -->\n<g id=\"node2\" class=\"node\">\n<title>140638319958528*</title>\n<ellipse fill=\"none\" stroke=\"black\" cx=\"193\" cy=\"-123\" rx=\"27\" ry=\"18\"/>\n<text text-anchor=\"middle\" x=\"193\" y=\"-119.3\" font-family=\"Times,serif\" font-size=\"14.00\">*</text>\n</g>\n<!-- 140638319958528*&#45;&gt;140638319958528 -->\n<g id=\"edge1\" class=\"edge\">\n<title>140638319958528*&#45;&gt;140638319958528</title>\n<path fill=\"none\" stroke=\"black\" d=\"M220.11,-123C228.49,-123 238.21,-123 248.24,-123\"/>\n<polygon fill=\"black\" stroke=\"black\" points=\"248.33,-126.5 258.33,-123 248.33,-119.5 248.33,-126.5\"/>\n</g>\n<!-- 140638319958048 -->\n<g id=\"node3\" class=\"node\">\n<title>140638319958048</title>\n<polygon fill=\"none\" stroke=\"black\" points=\"256,-176.5 256,-245.5 386,-245.5 386,-176.5 256,-176.5\"/>\n<text text-anchor=\"middle\" x=\"321\" y=\"-230.3\" font-family=\"Times,serif\" font-size=\"14.00\">X1W1</text>\n<polyline fill=\"none\" stroke=\"black\" points=\"256,-222.5 386,-222.5 \"/>\n<text text-anchor=\"middle\" x=\"321\" y=\"-207.3\" font-family=\"Times,serif\" font-size=\"14.00\">value = &#45;6.0000</text>\n<polyline fill=\"none\" stroke=\"black\" points=\"256,-199.5 386,-199.5 \"/>\n<text text-anchor=\"middle\" x=\"321\" y=\"-184.3\" font-family=\"Times,serif\" font-size=\"14.00\">grad = 0.5000</text>\n</g>\n<!-- 140638319958048&#45;&gt;140638319959248+ -->\n<g id=\"edge10\" class=\"edge\">\n<title>140638319958048&#45;&gt;140638319959248+</title>\n<path fill=\"none\" stroke=\"black\" d=\"M386.11,-188.61C396.18,-185.1 406.21,-181.59 415.18,-178.46\"/>\n<polygon fill=\"black\" stroke=\"black\" points=\"416.5,-181.71 424.79,-175.1 414.2,-175.1 416.5,-181.71\"/>\n</g>\n<!-- 140638319958048* -->\n<g id=\"node4\" class=\"node\">\n<title>140638319958048*</title>\n<ellipse fill=\"none\" stroke=\"black\" cx=\"193\" cy=\"-211\" rx=\"27\" ry=\"18\"/>\n<text text-anchor=\"middle\" x=\"193\" y=\"-207.3\" font-family=\"Times,serif\" font-size=\"14.00\">*</text>\n</g>\n<!-- 140638319958048*&#45;&gt;140638319958048 -->\n<g id=\"edge2\" class=\"edge\">\n<title>140638319958048*&#45;&gt;140638319958048</title>\n<path fill=\"none\" stroke=\"black\" d=\"M220.11,-211C227.84,-211 236.71,-211 245.91,-211\"/>\n<polygon fill=\"black\" stroke=\"black\" points=\"245.98,-214.5 255.98,-211 245.98,-207.5 245.98,-214.5\"/>\n</g>\n<!-- 140638319958192 -->\n<g id=\"node5\" class=\"node\">\n<title>140638319958192</title>\n<polygon fill=\"none\" stroke=\"black\" points=\"2.5,-88.5 2.5,-157.5 127.5,-157.5 127.5,-88.5 2.5,-88.5\"/>\n<text text-anchor=\"middle\" x=\"65\" y=\"-142.3\" font-family=\"Times,serif\" font-size=\"14.00\">X2</text>\n<polyline fill=\"none\" stroke=\"black\" points=\"2.5,-134.5 127.5,-134.5 \"/>\n<text text-anchor=\"middle\" x=\"65\" y=\"-119.3\" font-family=\"Times,serif\" font-size=\"14.00\">value = 0.0000</text>\n<polyline fill=\"none\" stroke=\"black\" points=\"2.5,-111.5 127.5,-111.5 \"/>\n<text text-anchor=\"middle\" x=\"65\" y=\"-96.3\" font-family=\"Times,serif\" font-size=\"14.00\">grad = 0.5000</text>\n</g>\n<!-- 140638319958192&#45;&gt;140638319958528* -->\n<g id=\"edge13\" class=\"edge\">\n<title>140638319958192&#45;&gt;140638319958528*</title>\n<path fill=\"none\" stroke=\"black\" d=\"M127.52,-123C137.12,-123 146.76,-123 155.55,-123\"/>\n<polygon fill=\"black\" stroke=\"black\" points=\"155.8,-126.5 165.8,-123 155.8,-119.5 155.8,-126.5\"/>\n</g>\n<!-- 140638319959440 -->\n<g id=\"node6\" class=\"node\">\n<title>140638319959440</title>\n<polygon fill=\"none\" stroke=\"black\" points=\"2.5,-0.5 2.5,-69.5 127.5,-69.5 127.5,-0.5 2.5,-0.5\"/>\n<text text-anchor=\"middle\" x=\"65\" y=\"-54.3\" font-family=\"Times,serif\" font-size=\"14.00\">W2</text>\n<polyline fill=\"none\" stroke=\"black\" points=\"2.5,-46.5 127.5,-46.5 \"/>\n<text text-anchor=\"middle\" x=\"65\" y=\"-31.3\" font-family=\"Times,serif\" font-size=\"14.00\">value = 1.0000</text>\n<polyline fill=\"none\" stroke=\"black\" points=\"2.5,-23.5 127.5,-23.5 \"/>\n<text text-anchor=\"middle\" x=\"65\" y=\"-8.3\" font-family=\"Times,serif\" font-size=\"14.00\">grad = 0.0000</text>\n</g>\n<!-- 140638319959440&#45;&gt;140638319958528* -->\n<g id=\"edge9\" class=\"edge\">\n<title>140638319959440&#45;&gt;140638319958528*</title>\n<path fill=\"none\" stroke=\"black\" d=\"M116.36,-69.52C120.98,-72.71 125.58,-75.91 130,-79 141.7,-87.17 154.57,-96.29 165.54,-104.09\"/>\n<polygon fill=\"black\" stroke=\"black\" points=\"163.7,-107.08 173.87,-110.03 167.76,-101.38 163.7,-107.08\"/>\n</g>\n<!-- 140638319959248 -->\n<g id=\"node7\" class=\"node\">\n<title>140638319959248</title>\n<polygon fill=\"none\" stroke=\"black\" points=\"512,-132.5 512,-201.5 642,-201.5 642,-132.5 512,-132.5\"/>\n<text text-anchor=\"middle\" x=\"577\" y=\"-186.3\" font-family=\"Times,serif\" font-size=\"14.00\">X1W1 + X2W2</text>\n<polyline fill=\"none\" stroke=\"black\" points=\"512,-178.5 642,-178.5 \"/>\n<text text-anchor=\"middle\" x=\"577\" y=\"-163.3\" font-family=\"Times,serif\" font-size=\"14.00\">value = &#45;6.0000</text>\n<polyline fill=\"none\" stroke=\"black\" points=\"512,-155.5 642,-155.5 \"/>\n<text text-anchor=\"middle\" x=\"577\" y=\"-140.3\" font-family=\"Times,serif\" font-size=\"14.00\">grad = 0.5000</text>\n</g>\n<!-- 140638317234016+ -->\n<g id=\"node11\" class=\"node\">\n<title>140638317234016+</title>\n<ellipse fill=\"none\" stroke=\"black\" cx=\"705\" cy=\"-211\" rx=\"27\" ry=\"18\"/>\n<text text-anchor=\"middle\" x=\"705\" y=\"-207.3\" font-family=\"Times,serif\" font-size=\"14.00\">+</text>\n</g>\n<!-- 140638319959248&#45;&gt;140638317234016+ -->\n<g id=\"edge7\" class=\"edge\">\n<title>140638319959248&#45;&gt;140638317234016+</title>\n<path fill=\"none\" stroke=\"black\" d=\"M642.11,-189.39C652.18,-192.9 662.21,-196.41 671.18,-199.54\"/>\n<polygon fill=\"black\" stroke=\"black\" points=\"670.2,-202.9 680.79,-202.9 672.5,-196.29 670.2,-202.9\"/>\n</g>\n<!-- 140638319959248+&#45;&gt;140638319959248 -->\n<g id=\"edge3\" class=\"edge\">\n<title>140638319959248+&#45;&gt;140638319959248</title>\n<path fill=\"none\" stroke=\"black\" d=\"M476.11,-167C483.84,-167 492.71,-167 501.91,-167\"/>\n<polygon fill=\"black\" stroke=\"black\" points=\"501.98,-170.5 511.98,-167 501.98,-163.5 501.98,-170.5\"/>\n</g>\n<!-- 140638319957712 -->\n<g id=\"node9\" class=\"node\">\n<title>140638319957712</title>\n<polygon fill=\"none\" stroke=\"black\" points=\"0,-264.5 0,-333.5 130,-333.5 130,-264.5 0,-264.5\"/>\n<text text-anchor=\"middle\" x=\"65\" y=\"-318.3\" font-family=\"Times,serif\" font-size=\"14.00\">W1</text>\n<polyline fill=\"none\" stroke=\"black\" points=\"0,-310.5 130,-310.5 \"/>\n<text text-anchor=\"middle\" x=\"65\" y=\"-295.3\" font-family=\"Times,serif\" font-size=\"14.00\">value = &#45;3.0000</text>\n<polyline fill=\"none\" stroke=\"black\" points=\"0,-287.5 130,-287.5 \"/>\n<text text-anchor=\"middle\" x=\"65\" y=\"-272.3\" font-family=\"Times,serif\" font-size=\"14.00\">grad = 1.0000</text>\n</g>\n<!-- 140638319957712&#45;&gt;140638319958048* -->\n<g id=\"edge6\" class=\"edge\">\n<title>140638319957712&#45;&gt;140638319958048*</title>\n<path fill=\"none\" stroke=\"black\" d=\"M116.36,-264.48C120.98,-261.29 125.58,-258.09 130,-255 141.7,-246.83 154.57,-237.71 165.54,-229.91\"/>\n<polygon fill=\"black\" stroke=\"black\" points=\"167.76,-232.62 173.87,-223.97 163.7,-226.92 167.76,-232.62\"/>\n</g>\n<!-- 140638317234016 -->\n<g id=\"node10\" class=\"node\">\n<title>140638317234016</title>\n<polygon fill=\"none\" stroke=\"black\" points=\"768,-176.5 768,-245.5 893,-245.5 893,-176.5 768,-176.5\"/>\n<text text-anchor=\"middle\" x=\"830.5\" y=\"-230.3\" font-family=\"Times,serif\" font-size=\"14.00\">N</text>\n<polyline fill=\"none\" stroke=\"black\" points=\"768,-222.5 893,-222.5 \"/>\n<text text-anchor=\"middle\" x=\"830.5\" y=\"-207.3\" font-family=\"Times,serif\" font-size=\"14.00\">value = 0.8814</text>\n<polyline fill=\"none\" stroke=\"black\" points=\"768,-199.5 893,-199.5 \"/>\n<text text-anchor=\"middle\" x=\"830.5\" y=\"-184.3\" font-family=\"Times,serif\" font-size=\"14.00\">grad = 0.5000</text>\n</g>\n<!-- 140638326603152tanh -->\n<g id=\"node15\" class=\"node\">\n<title>140638326603152tanh</title>\n<ellipse fill=\"none\" stroke=\"black\" cx=\"960.85\" cy=\"-211\" rx=\"31.7\" ry=\"18\"/>\n<text text-anchor=\"middle\" x=\"960.85\" y=\"-207.3\" font-family=\"Times,serif\" font-size=\"14.00\">tanh</text>\n</g>\n<!-- 140638317234016&#45;&gt;140638326603152tanh -->\n<g id=\"edge12\" class=\"edge\">\n<title>140638317234016&#45;&gt;140638326603152tanh</title>\n<path fill=\"none\" stroke=\"black\" d=\"M893.04,-211C901.82,-211 910.66,-211 918.91,-211\"/>\n<polygon fill=\"black\" stroke=\"black\" points=\"918.99,-214.5 928.99,-211 918.99,-207.5 918.99,-214.5\"/>\n</g>\n<!-- 140638317234016+&#45;&gt;140638317234016 -->\n<g id=\"edge4\" class=\"edge\">\n<title>140638317234016+&#45;&gt;140638317234016</title>\n<path fill=\"none\" stroke=\"black\" d=\"M732.19,-211C739.8,-211 748.51,-211 757.52,-211\"/>\n<polygon fill=\"black\" stroke=\"black\" points=\"757.77,-214.5 767.77,-211 757.77,-207.5 757.77,-214.5\"/>\n</g>\n<!-- 140638319958384 -->\n<g id=\"node12\" class=\"node\">\n<title>140638319958384</title>\n<polygon fill=\"none\" stroke=\"black\" points=\"2.5,-176.5 2.5,-245.5 127.5,-245.5 127.5,-176.5 2.5,-176.5\"/>\n<text text-anchor=\"middle\" x=\"65\" y=\"-230.3\" font-family=\"Times,serif\" font-size=\"14.00\">X1</text>\n<polyline fill=\"none\" stroke=\"black\" points=\"2.5,-222.5 127.5,-222.5 \"/>\n<text text-anchor=\"middle\" x=\"65\" y=\"-207.3\" font-family=\"Times,serif\" font-size=\"14.00\">value = 2.0000</text>\n<polyline fill=\"none\" stroke=\"black\" points=\"2.5,-199.5 127.5,-199.5 \"/>\n<text text-anchor=\"middle\" x=\"65\" y=\"-184.3\" font-family=\"Times,serif\" font-size=\"14.00\">grad = &#45;1.5000</text>\n</g>\n<!-- 140638319958384&#45;&gt;140638319958048* -->\n<g id=\"edge14\" class=\"edge\">\n<title>140638319958384&#45;&gt;140638319958048*</title>\n<path fill=\"none\" stroke=\"black\" d=\"M127.52,-211C137.12,-211 146.76,-211 155.55,-211\"/>\n<polygon fill=\"black\" stroke=\"black\" points=\"155.8,-214.5 165.8,-211 155.8,-207.5 155.8,-214.5\"/>\n</g>\n<!-- 140638319958912 -->\n<g id=\"node13\" class=\"node\">\n<title>140638319958912</title>\n<polygon fill=\"none\" stroke=\"black\" points=\"514.5,-220.5 514.5,-289.5 639.5,-289.5 639.5,-220.5 514.5,-220.5\"/>\n<text text-anchor=\"middle\" x=\"577\" y=\"-274.3\" font-family=\"Times,serif\" font-size=\"14.00\">B</text>\n<polyline fill=\"none\" stroke=\"black\" points=\"514.5,-266.5 639.5,-266.5 \"/>\n<text text-anchor=\"middle\" x=\"577\" y=\"-251.3\" font-family=\"Times,serif\" font-size=\"14.00\">value = 6.8814</text>\n<polyline fill=\"none\" stroke=\"black\" points=\"514.5,-243.5 639.5,-243.5 \"/>\n<text text-anchor=\"middle\" x=\"577\" y=\"-228.3\" font-family=\"Times,serif\" font-size=\"14.00\">grad = 0.5000</text>\n</g>\n<!-- 140638319958912&#45;&gt;140638317234016+ -->\n<g id=\"edge8\" class=\"edge\">\n<title>140638319958912&#45;&gt;140638317234016+</title>\n<path fill=\"none\" stroke=\"black\" d=\"M639.52,-233.52C650.47,-229.69 661.47,-225.85 671.21,-222.45\"/>\n<polygon fill=\"black\" stroke=\"black\" points=\"672.56,-225.69 680.84,-219.09 670.25,-219.08 672.56,-225.69\"/>\n</g>\n<!-- 140638326603152 -->\n<g id=\"node14\" class=\"node\">\n<title>140638326603152</title>\n<polygon fill=\"none\" stroke=\"black\" points=\"1028.69,-176.5 1028.69,-245.5 1153.69,-245.5 1153.69,-176.5 1028.69,-176.5\"/>\n<text text-anchor=\"middle\" x=\"1091.19\" y=\"-230.3\" font-family=\"Times,serif\" font-size=\"14.00\">Neuron Output</text>\n<polyline fill=\"none\" stroke=\"black\" points=\"1028.69,-222.5 1153.69,-222.5 \"/>\n<text text-anchor=\"middle\" x=\"1091.19\" y=\"-207.3\" font-family=\"Times,serif\" font-size=\"14.00\">value = 0.7071</text>\n<polyline fill=\"none\" stroke=\"black\" points=\"1028.69,-199.5 1153.69,-199.5 \"/>\n<text text-anchor=\"middle\" x=\"1091.19\" y=\"-184.3\" font-family=\"Times,serif\" font-size=\"14.00\">grad = 1.0000</text>\n</g>\n<!-- 140638326603152tanh&#45;&gt;140638326603152 -->\n<g id=\"edge5\" class=\"edge\">\n<title>140638326603152tanh&#45;&gt;140638326603152</title>\n<path fill=\"none\" stroke=\"black\" d=\"M992.92,-211C1000.73,-211 1009.45,-211 1018.37,-211\"/>\n<polygon fill=\"black\" stroke=\"black\" points=\"1018.48,-214.5 1028.48,-211 1018.48,-207.5 1018.48,-214.5\"/>\n</g>\n</g>\n</svg>\n",
      "text/plain": [
       "<graphviz.graphs.Digraph at 0x7fe8e97fbfd0>"
      ]
     },
     "execution_count": 396,
     "metadata": {},
     "output_type": "execute_result"
    }
   ],
   "source": [
    "# inputs x1, x2\n",
    "x1 = Value(2, label=\"x1\")\n",
    "x2 = Value(0, label=\"x2\")\n",
    "# weights of the neuron\n",
    "w1 = Value(-3, label=\"w1\")\n",
    "w2 = Value(1, label=\"w2\")\n",
    "# bias\n",
    "b = Value(6.8813735870195432, label=\"b\")\n",
    "\n",
    "x1w1 = x1 * w1; x1w1.label = \"x1w1\"\n",
    "x2w2 = x2 * w2; x2w2.label = \"x2w2\"\n",
    "x1w1x2w2 = x1w1 + x2w2; x1w1x2w2.label = \"x1w1 + x2w2\"\n",
    "n = x1w1x2w2 + b; n.label = \"n\"\n",
    "o = n.tanh(); o.label = \"neuron output\"\n",
    "\n",
    "o.backward()\n",
    "\n",
    "draw_dot(o)"
   ]
  },
  {
   "cell_type": "code",
   "execution_count": 397,
   "metadata": {},
   "outputs": [],
   "source": [
    "import random"
   ]
  },
  {
   "cell_type": "code",
   "execution_count": 398,
   "metadata": {},
   "outputs": [],
   "source": [
    "class Neuron:\n",
    "    def __init__(self, nin):\n",
    "        self.w = [Value(random.uniform(-1, 1)) for _ in range(nin)]\n",
    "        self.b = Value(random.uniform(-1, 1))\n",
    "\n",
    "    def __call__(self, x):\n",
    "        # w * x + b\n",
    "        activation = sum((wi * xi for wi, xi in zip(self.w, x)), self.b)\n",
    "        out = activation.tanh()\n",
    "        return out\n",
    "\n",
    "    def parameters(self):\n",
    "        return self.w + [self.b]\n",
    "\n",
    "class Layer:\n",
    "    def __init__(self, nin, nout):\n",
    "        self.neurons = [Neuron(nin) for _ in range(nout)]\n",
    "\n",
    "    def __call__(self, x):\n",
    "        outs = [n(x) for n in self.neurons]\n",
    "        return outs[0] if len(outs) == 1 else outs\n",
    "\n",
    "    def parameters(self):\n",
    "        return [p for neuron in self.neurons for p in neuron.parameters()]\n",
    "\n",
    "class MLP:\n",
    "    def __init__(self, nin, nouts):\n",
    "        sz = [nin] + nouts\n",
    "        self.layers = [Layer(sz[i], sz[i+1]) for i in range(len(nouts))]\n",
    "\n",
    "    def __call__(self, x):\n",
    "        for layer in self.layers:\n",
    "            x = layer(x)\n",
    "        return x\n",
    "\n",
    "    def parameters(self):\n",
    "        return [p for layer in self.layers for p in layer.parameters()]"
   ]
  },
  {
   "cell_type": "code",
   "execution_count": 399,
   "metadata": {},
   "outputs": [
    {
     "data": {
      "text/plain": [
       "Value(data=0.8542338603953151, grad=0)"
      ]
     },
     "execution_count": 399,
     "metadata": {},
     "output_type": "execute_result"
    }
   ],
   "source": [
    "x = [2, 3, -1]\n",
    "n = MLP(3, [4, 4, 1])\n",
    "n(x)"
   ]
  },
  {
   "cell_type": "code",
   "execution_count": 400,
   "metadata": {},
   "outputs": [
    {
     "data": {
      "text/plain": [
       "41"
      ]
     },
     "execution_count": 400,
     "metadata": {},
     "output_type": "execute_result"
    }
   ],
   "source": [
    "len(n.parameters())"
   ]
  },
  {
   "cell_type": "code",
   "execution_count": 401,
   "metadata": {},
   "outputs": [],
   "source": [
    "xs = [\n",
    "    [2., 3., 1.],\n",
    "    [3., -1., 0.5],\n",
    "    [0.5, 1., 1.],\n",
    "    [1., 1., -1.]\n",
    "]\n",
    "\n",
    "ys = [1., -1., -1., 1.]"
   ]
  },
  {
   "cell_type": "code",
   "execution_count": 402,
   "metadata": {},
   "outputs": [
    {
     "data": {
      "text/plain": [
       "Value(data=5.576997344050791, grad=0)"
      ]
     },
     "execution_count": 402,
     "metadata": {},
     "output_type": "execute_result"
    }
   ],
   "source": [
    "ypred = [n(x) for x in xs]\n",
    "loss = sum([(ygt - yout) ** 2 for ygt, yout in zip(ys, ypred)])\n",
    "loss"
   ]
  },
  {
   "cell_type": "code",
   "execution_count": 403,
   "metadata": {},
   "outputs": [],
   "source": [
    "# run these 4 cells below iteratively - this is gradient descent"
   ]
  },
  {
   "cell_type": "code",
   "execution_count": 404,
   "metadata": {},
   "outputs": [],
   "source": [
    "loss.backward()"
   ]
  },
  {
   "cell_type": "code",
   "execution_count": 405,
   "metadata": {},
   "outputs": [],
   "source": [
    "for p in n.parameters():\n",
    "    p.data -= 0.005 * p.grad"
   ]
  },
  {
   "cell_type": "code",
   "execution_count": 406,
   "metadata": {},
   "outputs": [
    {
     "data": {
      "text/plain": [
       "Value(data=5.023061415862303, grad=0)"
      ]
     },
     "execution_count": 406,
     "metadata": {},
     "output_type": "execute_result"
    }
   ],
   "source": [
    "ypred = [n(x) for x in xs]\n",
    "loss = sum([(ygt - yout) ** 2 for ygt, yout in zip(ys, ypred)])\n",
    "loss"
   ]
  },
  {
   "cell_type": "code",
   "execution_count": 407,
   "metadata": {},
   "outputs": [
    {
     "data": {
      "text/plain": [
       "[Value(data=0.39703190301393737, grad=0),\n",
       " Value(data=0.612478303721597, grad=0),\n",
       " Value(data=0.4133251367191657, grad=0),\n",
       " Value(data=0.7511693993412747, grad=0)]"
      ]
     },
     "execution_count": 407,
     "metadata": {},
     "output_type": "execute_result"
    }
   ],
   "source": [
    "ypred"
   ]
  },
  {
   "cell_type": "code",
   "execution_count": 408,
   "metadata": {},
   "outputs": [
    {
     "data": {
      "text/plain": [
       "Value(data=-0.43198305456814406, grad=0)"
      ]
     },
     "execution_count": 408,
     "metadata": {},
     "output_type": "execute_result"
    }
   ],
   "source": [
    "# redefine the network\n",
    "x = [2, 3, -1]\n",
    "n = MLP(3, [4, 4, 1])\n",
    "n(x)"
   ]
  },
  {
   "cell_type": "code",
   "execution_count": 409,
   "metadata": {},
   "outputs": [
    {
     "name": "stdout",
     "output_type": "stream",
     "text": [
      "Iteration 10 loss = 0.1838221258862376\n",
      "Iteration 20 loss = 0.06332141490956586\n",
      "Iteration 30 loss = 0.03640502131808837\n",
      "Iteration 40 loss = 0.025093348205177536\n",
      "Iteration 50 loss = 0.01897454010505304\n",
      "Iteration 60 loss = 0.01517498253552239\n",
      "Iteration 70 loss = 0.012600259555505986\n",
      "Iteration 80 loss = 0.010747030729715603\n",
      "Iteration 90 loss = 0.00935285138167801\n",
      "Iteration 100 loss = 0.008267996019906099\n",
      "Done\n",
      "Final loss = Value(data=0.008267996019906099, grad=1)\n",
      "Predictions: [Value(data=0.9439804438155275, grad=0), Value(data=-0.955108098866416, grad=0), Value(data=-0.95653959138758, grad=0), Value(data=0.966378814804373, grad=0)]\n"
     ]
    }
   ],
   "source": [
    "# now we will do an actual train loop\n",
    "learning_rate = 0.05\n",
    "\n",
    "for k in range(1, 101):\n",
    "    # forward pass\n",
    "    ypred = [n(x) for x in xs]\n",
    "    loss = sum((yout - ygt) ** 2 for ygt, yout in zip(ys, ypred))\n",
    "    if k % 10 == 0:\n",
    "        print(f\"Iteration {k} loss = {loss.data}\")\n",
    "    \n",
    "    # remember to zero the grads before the backward pass\n",
    "    for p in n.parameters():\n",
    "        p.grad = 0\n",
    "\n",
    "    # backward pass - update params\n",
    "    loss.backward()\n",
    "    for p in n.parameters():\n",
    "        p.data -= learning_rate * p.grad\n",
    "\n",
    "print(\"Done\")\n",
    "print(f\"Final loss = {loss}\")\n",
    "print(f\"Predictions: {[n(x) for x in xs]}\")"
   ]
  },
  {
   "cell_type": "code",
   "execution_count": 410,
   "metadata": {},
   "outputs": [
    {
     "data": {
      "text/plain": [
       "[Value(data=0.0031742982566757595, grad=0),\n",
       " Value(data=0.0020370791433969707, grad=0),\n",
       " Value(data=0.0019123149887559244, grad=0),\n",
       " Value(data=0.0011443036310774455, grad=0)]"
      ]
     },
     "execution_count": 410,
     "metadata": {},
     "output_type": "execute_result"
    }
   ],
   "source": [
    "l = [(ygt - yout) ** 2 for ygt, yout in zip(ys, ypred)]\n",
    "l"
   ]
  },
  {
   "cell_type": "code",
   "execution_count": 411,
   "metadata": {},
   "outputs": [
    {
     "name": "stdout",
     "output_type": "stream",
     "text": [
      "Value(data=0.008267996019906099, grad=0)\n",
      "Value(data=0.008267996019906099, grad=0)\n"
     ]
    }
   ],
   "source": [
    "s = sum(l)\n",
    "print(s)\n",
    "print(l[0] + l[1] + l[2] + l[3])"
   ]
  },
  {
   "cell_type": "code",
   "execution_count": 364,
   "metadata": {},
   "outputs": [
    {
     "data": {
      "text/plain": [
       "Value(3.6557701999770984)"
      ]
     },
     "execution_count": 364,
     "metadata": {},
     "output_type": "execute_result"
    }
   ],
   "source": []
  },
  {
   "cell_type": "code",
   "execution_count": null,
   "metadata": {},
   "outputs": [],
   "source": []
  }
 ],
 "metadata": {
  "kernelspec": {
   "display_name": "Python 3.9.12 ('base')",
   "language": "python",
   "name": "python3"
  },
  "language_info": {
   "codemirror_mode": {
    "name": "ipython",
    "version": 3
   },
   "file_extension": ".py",
   "mimetype": "text/x-python",
   "name": "python",
   "nbconvert_exporter": "python",
   "pygments_lexer": "ipython3",
   "version": "3.9.12"
  },
  "orig_nbformat": 4,
  "vscode": {
   "interpreter": {
    "hash": "a15702a29ea01ae7aa6b51d803dd08c0ac5dbedc153ed7a5fc67a3e004dd827d"
   }
  }
 },
 "nbformat": 4,
 "nbformat_minor": 2
}
