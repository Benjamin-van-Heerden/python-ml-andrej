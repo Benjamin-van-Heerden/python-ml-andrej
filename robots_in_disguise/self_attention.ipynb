{
 "cells": [
  {
   "cell_type": "code",
   "execution_count": 1,
   "metadata": {},
   "outputs": [],
   "source": [
    "import torch"
   ]
  },
  {
   "cell_type": "code",
   "execution_count": 2,
   "metadata": {},
   "outputs": [
    {
     "data": {
      "text/plain": [
       "torch.Size([4, 8, 2])"
      ]
     },
     "execution_count": 2,
     "metadata": {},
     "output_type": "execute_result"
    }
   ],
   "source": [
    "B, T, C = 4, 8, 2\n",
    "x = torch.randn(B, T, C)\n",
    "x.shape"
   ]
  },
  {
   "cell_type": "code",
   "execution_count": 3,
   "metadata": {},
   "outputs": [],
   "source": [
    "# we want x[b, t] = mean_{i <= t} x[b, i]\n",
    "xbow = torch.zeros((B, T, C))\n",
    "for b in range(B):\n",
    "    for t in range(T):\n",
    "        # everything up to and including t\n",
    "        xprev = x[b, :t+1] # (t, C)\n",
    "        # average out over time\n",
    "        xbow[b, t] = xprev.mean(dim=0)"
   ]
  },
  {
   "cell_type": "code",
   "execution_count": 4,
   "metadata": {},
   "outputs": [
    {
     "data": {
      "text/plain": [
       "tensor([[ 1.8778,  0.6996],\n",
       "        [ 0.9471,  0.6889],\n",
       "        [-0.2117,  0.4191],\n",
       "        [ 1.1670,  0.5994],\n",
       "        [-0.7523,  0.1631],\n",
       "        [ 0.9327, -0.5975],\n",
       "        [-0.4691,  0.4282],\n",
       "        [ 0.9282,  0.6231]])"
      ]
     },
     "execution_count": 4,
     "metadata": {},
     "output_type": "execute_result"
    }
   ],
   "source": [
    "x[0]"
   ]
  },
  {
   "cell_type": "code",
   "execution_count": 5,
   "metadata": {},
   "outputs": [
    {
     "data": {
      "text/plain": [
       "tensor([[1.8778, 0.6996],\n",
       "        [1.4124, 0.6943],\n",
       "        [0.8711, 0.6025],\n",
       "        [0.9451, 0.6018],\n",
       "        [0.6056, 0.5140],\n",
       "        [0.6601, 0.3288],\n",
       "        [0.4988, 0.3430],\n",
       "        [0.5525, 0.3780]])"
      ]
     },
     "execution_count": 5,
     "metadata": {},
     "output_type": "execute_result"
    }
   ],
   "source": [
    "xbow[0]"
   ]
  },
  {
   "cell_type": "code",
   "execution_count": 10,
   "metadata": {},
   "outputs": [
    {
     "name": "stdout",
     "output_type": "stream",
     "text": [
      "a=\n",
      "tensor([[1., 0., 0.],\n",
      "        [1., 1., 0.],\n",
      "        [1., 1., 1.]])\n",
      "b=\n",
      "tensor([[2., 7.],\n",
      "        [6., 4.],\n",
      "        [6., 5.]])\n",
      "c=\n",
      "tensor([[ 2.,  7.],\n",
      "        [ 8., 11.],\n",
      "        [14., 16.]])\n"
     ]
    }
   ],
   "source": [
    "# we can be very efficient doing this with matrix operations\n",
    "torch.manual_seed(42)\n",
    "a = torch.ones(3, 3)\n",
    "# now with a mask\n",
    "a = torch.tril(torch.ones(3, 3))\n",
    "b = torch.randint(0, 10, (3, 2)).float()\n",
    "c = a @ b\n",
    "print(\"a=\")\n",
    "print(a)\n",
    "print(\"b=\")\n",
    "print(b)\n",
    "print(\"c=\")\n",
    "print(c)"
   ]
  },
  {
   "cell_type": "code",
   "execution_count": 9,
   "metadata": {},
   "outputs": [
    {
     "data": {
      "text/plain": [
       "tensor([[1., 0., 0.],\n",
       "        [1., 1., 0.],\n",
       "        [1., 1., 1.]])"
      ]
     },
     "execution_count": 9,
     "metadata": {},
     "output_type": "execute_result"
    }
   ],
   "source": [
    "torch.tril(torch.ones(3, 3))"
   ]
  },
  {
   "cell_type": "code",
   "execution_count": 15,
   "metadata": {},
   "outputs": [
    {
     "name": "stdout",
     "output_type": "stream",
     "text": [
      "a=\n",
      "tensor([[1.0000, 0.0000, 0.0000],\n",
      "        [0.5000, 0.5000, 0.0000],\n",
      "        [0.3333, 0.3333, 0.3333]])\n",
      "b=\n",
      "tensor([[2., 7.],\n",
      "        [6., 4.],\n",
      "        [6., 5.]])\n",
      "c=\n",
      "tensor([[2.0000, 7.0000],\n",
      "        [4.0000, 5.5000],\n",
      "        [4.6667, 5.3333]])\n"
     ]
    }
   ],
   "source": [
    "# we can be very efficient doing this with matrix operations\n",
    "torch.manual_seed(42)\n",
    "a = torch.tril(torch.ones(3, 3))\n",
    "# if we now want a masked average, we can do this by normalizing the mask\n",
    "a = a / a.sum(dim=1, keepdim=True)\n",
    "b = torch.randint(0, 10, (3, 2)).float()\n",
    "c = a @ b\n",
    "print(\"a=\")\n",
    "print(a)\n",
    "print(\"b=\")\n",
    "print(b)\n",
    "print(\"c=\")\n",
    "print(c)"
   ]
  },
  {
   "cell_type": "code",
   "execution_count": 14,
   "metadata": {},
   "outputs": [
    {
     "data": {
      "text/plain": [
       "tensor([[1.0000, 0.0000, 0.0000],\n",
       "        [0.5000, 0.5000, 0.0000],\n",
       "        [0.3333, 0.3333, 0.3333]])"
      ]
     },
     "execution_count": 14,
     "metadata": {},
     "output_type": "execute_result"
    }
   ],
   "source": [
    "a / a.sum(dim=1, keepdim=True)"
   ]
  },
  {
   "cell_type": "code",
   "execution_count": 22,
   "metadata": {},
   "outputs": [],
   "source": [
    "# now lets vectorize our toy attention\n",
    "wei = torch.tril(torch.ones(T, T))\n",
    "wei = wei / wei.sum(dim=1, keepdim=True)\n",
    "# each row of wei is a probability distribution over the previous tokens\n",
    "# the \"averaging mask\"\n",
    "xbow2 = wei @ x # (T, T) @ (B, T, C) --> (B, T, C)\n",
    "# under the hood pytorch will look and see (T, T) requires broadcasting and create a batch dimension \n",
    "# s.t. we have (B, T, T) @ (B, T, C) --> (B, T, C)\n",
    "# the batch multiplication happens in parallel and then for each batch element we have (T, T) @ (T, C) --> (T, C)    "
   ]
  },
  {
   "cell_type": "code",
   "execution_count": 18,
   "metadata": {},
   "outputs": [
    {
     "data": {
      "text/plain": [
       "torch.Size([4, 8, 2])"
      ]
     },
     "execution_count": 18,
     "metadata": {},
     "output_type": "execute_result"
    }
   ],
   "source": [
    "x.shape"
   ]
  },
  {
   "cell_type": "code",
   "execution_count": 19,
   "metadata": {},
   "outputs": [
    {
     "data": {
      "text/plain": [
       "torch.Size([4, 8, 2])"
      ]
     },
     "execution_count": 19,
     "metadata": {},
     "output_type": "execute_result"
    }
   ],
   "source": [
    "xbow.shape"
   ]
  },
  {
   "cell_type": "code",
   "execution_count": 21,
   "metadata": {},
   "outputs": [
    {
     "data": {
      "text/plain": [
       "tensor([[[ 1.8778,  0.6996],\n",
       "         [ 1.4124,  0.6943],\n",
       "         [ 0.8711,  0.6025],\n",
       "         [ 0.9451,  0.6018],\n",
       "         [ 0.6056,  0.5140],\n",
       "         [ 0.6601,  0.3288],\n",
       "         [ 0.4988,  0.3430],\n",
       "         [ 0.5525,  0.3780]],\n",
       "\n",
       "        [[-0.5954, -0.0072],\n",
       "         [ 0.4261, -0.3368],\n",
       "         [ 0.4964, -0.2207],\n",
       "         [ 0.2745, -0.2707],\n",
       "         [-0.0337, -0.0335],\n",
       "         [-0.2426,  0.1255],\n",
       "         [-0.2242,  0.0303],\n",
       "         [-0.0497,  0.0400]],\n",
       "\n",
       "        [[-1.1438,  0.0843],\n",
       "         [-0.6994,  1.2355],\n",
       "         [-0.4707,  1.1656],\n",
       "         [-0.2883,  0.6383],\n",
       "         [-0.2519,  0.3507],\n",
       "         [-0.4115,  0.4310],\n",
       "         [-0.3521,  0.6447],\n",
       "         [-0.5144,  0.4690]],\n",
       "\n",
       "        [[-2.0635, -0.2788],\n",
       "         [-1.0403, -0.9372],\n",
       "         [-0.4238, -0.4352],\n",
       "         [-0.2936, -0.0962],\n",
       "         [-0.0933, -0.1059],\n",
       "         [ 0.1296,  0.1284],\n",
       "         [ 0.3538,  0.2544],\n",
       "         [ 0.1949,  0.3895]]])"
      ]
     },
     "execution_count": 21,
     "metadata": {},
     "output_type": "execute_result"
    }
   ],
   "source": []
  },
  {
   "cell_type": "code",
   "execution_count": null,
   "metadata": {},
   "outputs": [],
   "source": []
  }
 ],
 "metadata": {
  "kernelspec": {
   "display_name": "base",
   "language": "python",
   "name": "python3"
  },
  "language_info": {
   "codemirror_mode": {
    "name": "ipython",
    "version": 3
   },
   "file_extension": ".py",
   "mimetype": "text/x-python",
   "name": "python",
   "nbconvert_exporter": "python",
   "pygments_lexer": "ipython3",
   "version": "3.9.12"
  },
  "orig_nbformat": 4,
  "vscode": {
   "interpreter": {
    "hash": "a15702a29ea01ae7aa6b51d803dd08c0ac5dbedc153ed7a5fc67a3e004dd827d"
   }
  }
 },
 "nbformat": 4,
 "nbformat_minor": 2
}
